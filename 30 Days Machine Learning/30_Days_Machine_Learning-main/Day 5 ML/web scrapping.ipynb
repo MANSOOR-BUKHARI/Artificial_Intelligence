{
 "cells": [
  {
   "cell_type": "code",
   "execution_count": 1,
   "id": "355278f5",
   "metadata": {},
   "outputs": [],
   "source": [
    "import pandas\n",
    "from bs4 import BeautifulSoup\n",
    "import requests"
   ]
  },
  {
   "cell_type": "code",
   "execution_count": 2,
   "id": "de81c717",
   "metadata": {},
   "outputs": [],
   "source": [
    "headers = {'User-Agent': 'Mozilla/5.0 (Macintosh; Intel Mac OS X 10_10_1) AppleWebKit/537.36 (KHTML, like Gecko) Chrome/39.0.2171.95 Safari/537.36'}\n",
    "web = requests.get(url='https://selectedfirms.co/companies/it-services-companies/usa', headers=headers).text"
   ]
  },
  {
   "cell_type": "code",
   "execution_count": 3,
   "id": "c2b9b96e",
   "metadata": {},
   "outputs": [],
   "source": [
    "soup = BeautifulSoup(web,'lxml')"
   ]
  },
  {
   "cell_type": "code",
   "execution_count": 4,
   "id": "fbd79b0b",
   "metadata": {},
   "outputs": [],
   "source": [
    "# print(soup.prettify())"
   ]
  },
  {
   "cell_type": "markdown",
   "id": "0e76c0b0",
   "metadata": {},
   "source": [
    "## Get the heading line"
   ]
  },
  {
   "cell_type": "code",
   "execution_count": 5,
   "id": "57812e65",
   "metadata": {},
   "outputs": [
    {
     "name": "stdout",
     "output_type": "stream",
     "text": [
      "Top IT Services Companies & IT Consulting Firms in USA | 2024\n"
     ]
    }
   ],
   "source": [
    "for i in soup.find_all('h1'):\n",
    "    print(i.text.strip()) #i get heading with h1 tag, .text get only text and strip remove spaces"
   ]
  },
  {
   "cell_type": "markdown",
   "id": "0d3e77b8",
   "metadata": {},
   "source": [
    "### Get companies names"
   ]
  },
  {
   "cell_type": "code",
   "execution_count": 6,
   "id": "648811a9",
   "metadata": {},
   "outputs": [
    {
     "name": "stdout",
     "output_type": "stream",
     "text": [
      "Serokell\n",
      "Devlane\n",
      "Chetu\n",
      "Scopic Software\n",
      "Vardot\n",
      "Cloud Analogy\n",
      "KITRUM\n",
      "Inventcolabs\n",
      "Interexy\n",
      "SumatoSoft\n",
      "USM\n",
      "Satva Solutions\n",
      "Virtual Assistant India\n",
      "BrainSpate\n",
      "AndolaSoft\n",
      "Nickelfox Technologies\n",
      "Appikr Labs\n",
      "dotcode\n",
      "Five Jars\n",
      "Clustox\n",
      "Webplanex\n",
      "Lampa Software\n",
      "Centous Solutions\n",
      "Exposit\n",
      "Magora\n"
     ]
    }
   ],
   "source": [
    "for i in soup.find_all(\"a\",class_='head6'):\n",
    "    print(i.text.strip())"
   ]
  },
  {
   "cell_type": "markdown",
   "id": "2f9bec08",
   "metadata": {},
   "source": [
    "### Get rating"
   ]
  },
  {
   "cell_type": "code",
   "execution_count": 7,
   "id": "00656a5c",
   "metadata": {},
   "outputs": [
    {
     "name": "stdout",
     "output_type": "stream",
     "text": [
      "5.0\n",
      "(31 Reviews)\n",
      "5.0\n",
      "(6 Reviews)\n",
      "0.0\n",
      "(0 Reviews)\n",
      "5.0\n",
      "(1 Reviews)\n",
      "5.0\n",
      "(8 Reviews)\n",
      "5.0\n",
      "(5 Reviews)\n",
      "0.0\n",
      "(0 Reviews)\n",
      "0.0\n",
      "(0 Reviews)\n",
      "0.0\n",
      "(0 Reviews)\n",
      "0.0\n",
      "(0 Reviews)\n",
      "0.0\n",
      "(0 Reviews)\n",
      "5.0\n",
      "(7 Reviews)\n",
      "0.0\n",
      "(0 Reviews)\n",
      "0.0\n",
      "(0 Reviews)\n",
      "0.0\n",
      "(0 Reviews)\n",
      "0.0\n",
      "(0 Reviews)\n",
      "0.0\n",
      "(0 Reviews)\n",
      "0.0\n",
      "(0 Reviews)\n",
      "0.0\n",
      "(0 Reviews)\n",
      "5.0\n",
      "(5 Reviews)\n",
      "5.0\n",
      "(1 Reviews)\n",
      "0.0\n",
      "(0 Reviews)\n",
      "0.0\n",
      "(0 Reviews)\n",
      "0.0\n",
      "(0 Reviews)\n",
      "0.0\n",
      "(0 Reviews)\n",
      "0.0\n",
      "(0 Reviews)\n",
      "5.0\n",
      "(5 Reviews)\n"
     ]
    }
   ],
   "source": [
    "for rating in soup.find_all('div',class_=\"review-text\"):\n",
    "    print(rating.text.strip())"
   ]
  },
  {
   "cell_type": "markdown",
   "id": "ef5c4e93",
   "metadata": {},
   "source": [
    "### Inside service listing"
   ]
  },
  {
   "cell_type": "code",
   "execution_count": 8,
   "id": "11471ce3",
   "metadata": {},
   "outputs": [
    {
     "name": "stdout",
     "output_type": "stream",
     "text": [
      "$100,000+\n",
      "$10,000+\n",
      "$10,000+\n",
      "$10,000+\n",
      "$10,000+\n",
      "$1,000 - $100,000\n",
      "$25+\n",
      "$50,000+\n",
      "$10 - $15\n",
      "$25,000+\n",
      "$10,000+\n",
      "$1,000 - $100,000\n",
      "$15 - $25\n",
      "$5,000 - $10,000\n",
      "$1,000+\n",
      "$10,000+\n",
      "$10,000 - $100,000\n",
      "$10,000+\n",
      "$10,000+\n",
      "$25,000 - $100,000\n",
      "$300+\n",
      "$10,000+\n",
      "$1,000 - $10,000\n",
      "$10,000+\n",
      "$10,000+\n"
     ]
    }
   ],
   "source": [
    "for i in soup.find_all('div',class_=\"in-point purse\"):\n",
    "        print(i.text.strip())"
   ]
  },
  {
   "cell_type": "markdown",
   "id": "b007c34b",
   "metadata": {},
   "source": [
    "### Find peoples"
   ]
  },
  {
   "cell_type": "code",
   "execution_count": 9,
   "id": "3d5446ac",
   "metadata": {},
   "outputs": [
    {
     "name": "stdout",
     "output_type": "stream",
     "text": [
      "100 - 150\n",
      "50 - 249\n",
      "1,000 - 1,999\n",
      "50 - 249\n",
      "50 - 249\n",
      "500 - 1,000\n",
      "250+\n",
      "150+\n",
      "50 - 249\n",
      "70 - 249\n",
      "250 - 999\n",
      "50 - 249\n",
      "500 - 1,000\n",
      "1 - 50\n",
      "50 - 249\n",
      "100 - 145\n",
      "49 - 200\n",
      "10 - 49\n",
      "40 - 50\n",
      "100 - 150\n",
      "50 - 150\n",
      "50 - 100\n",
      "10 - 25\n",
      "50 - 249\n",
      "50 - 249\n"
     ]
    }
   ],
   "source": [
    "for people in soup.find_all('div',class_='in-point people'):\n",
    "    print(people.text.strip())"
   ]
  },
  {
   "cell_type": "markdown",
   "id": "61be5639",
   "metadata": {},
   "source": [
    "### Link of websites"
   ]
  },
  {
   "cell_type": "code",
   "execution_count": 10,
   "id": "58cd89df",
   "metadata": {},
   "outputs": [
    {
     "name": "stdout",
     "output_type": "stream",
     "text": [
      "['https://serokell.io']\n",
      "['https://www.devlane.com/']\n",
      "['https://www.chetu.com/']\n",
      "['https://scopicsoftware.com/']\n",
      "['https://www.vardot.com']\n",
      "['https://www.cloudanalogy.com/']\n",
      "['https://kitrum.com']\n",
      "['https://www.inventcolabssoftware.com/']\n",
      "['https://interexy.com/']\n",
      "['https://sumatosoft.com/']\n",
      "['https://www.usmsystems.com/']\n",
      "['https://satvasolutions.com/']\n",
      "['https://www.virtual-assistant-india.com/']\n",
      "['https://brainspate.com/']\n",
      "['https://www.andolasoft.com/']\n",
      "['https://www.nickelfox.com/']\n",
      "['https://www.appikr.com/']\n",
      "['https://dotcode.pro/']\n",
      "['https://fivejars.com/']\n",
      "['https://clustox.com/']\n",
      "['https://www.webplanex.com']\n",
      "['https://lampa.dev/']\n",
      "['https://www.centous.com/']\n",
      "['https://www.exposit.com/']\n",
      "['https://magora-systems.com/']\n"
     ]
    }
   ],
   "source": [
    "for site in soup.find_all('div', class_=\"action visit\"):\n",
    "    web_links = site.select('a')\n",
    "    actual_web_links = [web_link['href'] for web_link in web_links] \n",
    "    print(actual_web_links)"
   ]
  },
  {
   "cell_type": "code",
   "execution_count": null,
   "id": "4b85de2f",
   "metadata": {},
   "outputs": [],
   "source": []
  }
 ],
 "metadata": {
  "kernelspec": {
   "display_name": "Python 3 (ipykernel)",
   "language": "python",
   "name": "python3"
  },
  "language_info": {
   "codemirror_mode": {
    "name": "ipython",
    "version": 3
   },
   "file_extension": ".py",
   "mimetype": "text/x-python",
   "name": "python",
   "nbconvert_exporter": "python",
   "pygments_lexer": "ipython3",
   "version": "3.9.13"
  }
 },
 "nbformat": 4,
 "nbformat_minor": 5
}
