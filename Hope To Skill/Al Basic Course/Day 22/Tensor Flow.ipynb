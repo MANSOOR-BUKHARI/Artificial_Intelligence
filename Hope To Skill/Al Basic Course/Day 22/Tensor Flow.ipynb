{
 "cells": [
  {
   "cell_type": "markdown",
   "id": "96bf4f4d",
   "metadata": {},
   "source": [
    "### `Load Libraries`"
   ]
  },
  {
   "cell_type": "code",
   "execution_count": 1,
   "id": "b36a09f5",
   "metadata": {},
   "outputs": [],
   "source": [
    "from tensorflow.keras.datasets import mnist\n",
    "from tensorflow.keras.models import Sequential\n",
    "from tensorflow.keras.layers import Dense\n",
    "from tensorflow.keras.utils import to_categorical\n",
    "import matplotlib.pyplot as plt\n",
    "%matplotlib inline"
   ]
  },
  {
   "cell_type": "markdown",
   "id": "28433c28",
   "metadata": {},
   "source": [
    "### `Load Dataset`"
   ]
  },
  {
   "cell_type": "code",
   "execution_count": 2,
   "id": "7265e30a",
   "metadata": {},
   "outputs": [
    {
     "name": "stdout",
     "output_type": "stream",
     "text": [
      "Downloading data from https://storage.googleapis.com/tensorflow/tf-keras-datasets/mnist.npz\n",
      "11490434/11490434 [==============================] - 224s 20us/step\n"
     ]
    }
   ],
   "source": [
    "(X_train, Y_train), (X_test,Y_test) = mnist.load_data()"
   ]
  },
  {
   "cell_type": "markdown",
   "id": "0b471f32",
   "metadata": {},
   "source": [
    "### `Preprocessing`"
   ]
  },
  {
   "cell_type": "code",
   "execution_count": 3,
   "id": "c34a6474",
   "metadata": {},
   "outputs": [
    {
     "data": {
      "image/png": "[encoded data removed]",
      "text/plain": [
       "<Figure size 2000x400 with 10 Axes>"
      ]
     },
     "metadata": {},
     "output_type": "display_data"
    }
   ],
   "source": [
    "n = 10 #how many digits we will display\n",
    "plt.figure(figsize=(20,4))\n",
    "for i in range(n):\n",
    "    # Display orignal\n",
    "    ax = plt.subplot(2,n,i+1)\n",
    "    plt.imshow(X_test[i].reshape(28,28))\n",
    "    plt.gray()\n",
    "    ax.get_xaxis().set_visible(False)\n",
    "    ax.get_yaxis().set_visible(False)\n",
    "plt.show()\n",
    "plt.close()"
   ]
  },
  {
   "cell_type": "markdown",
   "id": "db4bdfe5",
   "metadata": {},
   "source": [
    "### `Reshape Test and Train`"
   ]
  },
  {
   "cell_type": "code",
   "execution_count": 4,
   "id": "165be804",
   "metadata": {},
   "outputs": [
    {
     "name": "stdout",
     "output_type": "stream",
     "text": [
      "Previous X_train shape: (60000, 28, 28)\n",
      "Previous Y_train shape (60000,)\n",
      "New X_train shape: (60000, 784)\n",
      "New Y_train shape (60000, 10)\n"
     ]
    }
   ],
   "source": [
    "print(f'Previous X_train shape: {X_train.shape}\\nPrevious Y_train shape {Y_train.shape}')\n",
    "X_train = X_train.reshape(60000,784)\n",
    "X_test = X_test.reshape(10000,784)\n",
    "X_train = X_train.astype('float32')\n",
    "X_test = X_test.astype('float32')\n",
    "X_train /= 255\n",
    "X_test /= 255\n",
    "classes = 10\n",
    "Y_train = to_categorical(Y_train,classes)\n",
    "Y_test = to_categorical(Y_test,classes)\n",
    "print(f'New X_train shape: {X_train.shape}\\nNew Y_train shape {Y_train.shape}')"
   ]
  },
  {
   "cell_type": "markdown",
   "id": "e8a7a1aa",
   "metadata": {},
   "source": [
    "### `Setting up Parameter`"
   ]
  },
  {
   "cell_type": "code",
   "execution_count": 5,
   "id": "65659a56",
   "metadata": {},
   "outputs": [],
   "source": [
    "input_size = 784\n",
    "batch_size = 200\n",
    "hidden1 = 400\n",
    "hidden2 = 20\n",
    "classes = 10\n",
    "epochs = 5"
   ]
  },
  {
   "cell_type": "markdown",
   "id": "91470eb6",
   "metadata": {},
   "source": [
    "### `Built the Model`"
   ]
  },
  {
   "cell_type": "code",
   "execution_count": 6,
   "id": "4615a4ca",
   "metadata": {},
   "outputs": [
    {
     "name": "stdout",
     "output_type": "stream",
     "text": [
      "Model: \"sequential\"\n",
      "_________________________________________________________________\n",
      " Layer (type)                Output Shape              Param #   \n",
      "=================================================================\n",
      " dense (Dense)               (None, 400)               314000    \n",
      "                                                                 \n",
      " dense_1 (Dense)             (None, 20)                8020      \n",
      "                                                                 \n",
      " dense_2 (Dense)             (None, 10)                210       \n",
      "                                                                 \n",
      "=================================================================\n",
      "Total params: 322,230\n",
      "Trainable params: 322,230\n",
      "Non-trainable params: 0\n",
      "_________________________________________________________________\n"
     ]
    }
   ],
   "source": [
    "model = Sequential()\n",
    "model.add(Dense(hidden1,input_dim=input_size,activation='relu'))\n",
    "# output = relu (dot( W, input)+ bias)\n",
    "model.add(Dense(hidden2,activation='relu'))\n",
    "model.add(Dense(classes, activation='softmax'))\n",
    "# Compilation\n",
    "model.compile(loss='categorical_crossentropy',\n",
    "              metrics = ['accuracy'], optimizer='sgd')\n",
    "model.summary()"
   ]
  },
  {
   "cell_type": "markdown",
   "id": "1afa999c",
   "metadata": {},
   "source": [
    "### `Training the Model`"
   ]
  },
  {
   "cell_type": "code",
   "execution_count": 7,
   "id": "f6695d4a",
   "metadata": {},
   "outputs": [
    {
     "name": "stdout",
     "output_type": "stream",
     "text": [
      "Epoch 1/5\n",
      "300/300 [==============================] - 4s 11ms/step - loss: 1.6969 - accuracy: 0.5041\n",
      "Epoch 2/5\n",
      "300/300 [==============================] - 3s 9ms/step - loss: 0.7422 - accuracy: 0.8297\n",
      "Epoch 3/5\n",
      "300/300 [==============================] - 3s 9ms/step - loss: 0.4998 - accuracy: 0.8715\n",
      "Epoch 4/5\n",
      "300/300 [==============================] - 3s 10ms/step - loss: 0.4135 - accuracy: 0.8891\n",
      "Epoch 5/5\n",
      "300/300 [==============================] - 3s 9ms/step - loss: 0.3667 - accuracy: 0.9006\n",
      "Model training took 16.03016448020935 secs\n"
     ]
    }
   ],
   "source": [
    "from time import time\n",
    "# Record current time to measure training time\n",
    "tic = time()\n",
    "\n",
    "# Fit the model on training data\n",
    "model.fit(X_train,Y_train,batch_size=batch_size,epochs=epochs,verbose=1)\n",
    "\n",
    "# Record time after model training\n",
    "toc = time()\n",
    "\n",
    "# Calculate and print total time taken by model on training\n",
    "print(f'Model training took {toc-tic} secs')"
   ]
  },
  {
   "cell_type": "markdown",
   "id": "ae126e13",
   "metadata": {},
   "source": [
    "### `Testing The Model`"
   ]
  },
  {
   "cell_type": "code",
   "execution_count": null,
   "id": "3a536aa2",
   "metadata": {},
   "outputs": [],
   "source": [
    "from sklearn.metrics import accuracy_score\n",
    "import numpy as np\n",
    "\n",
    "# Pridict probability fir tge test set using trained model\n",
    "y_pred_probs = model.predict(X_test,verbose=0)\n",
    "y_pred = np.where(y_pred_probs>0.5,1,0)\n",
    "\n",
    "# Calculate and pring test accuracy using pridicted and true label\n",
    "print(f\"Test Accuracy is {accuracy_score(y_pred,Y_test)}\")\n",
    "\n",
    "# Define a mask for selecting a range of indices (20 to 49)\n",
    "mask = range(20,50)\n",
    "\n",
    "# Select first 20 samples from test set for visculization\n",
    "X_valid = X_test[20:40]\n",
    "acutal_label = Y_test[20:20]\n",
    "\n",
    "# Predict probability for selecting validation sample\n",
    "y_pred_probs_valid = model.predict(X_valid)\n",
    "y_pred_valid = np.where(y_pred_probs_valid>0.5,1,0)\n",
    "\n",
    "# Set up a figure to display images\n",
    "n = len(X_valid)\n",
    "plt.figure(figsize=(20,4))\n",
    "for i in range(n):\n",
    "    # Display orignal\n",
    "    ax = plt.subplot(2,n,i+1)\n",
    "    plt.imshow(X_valid[i].reshape(28,28))\n",
    "    plt.gray()\n",
    "    ax.get_xaxis().set_visible(False)\n",
    "    ax.get_yaxis().set_visible(False)\n",
    "    \n",
    "    # Display predicted digits\n",
    "    predicted_digit = np.argmax(y_pred_probs_valid[i])\n",
    "    ax = plt.subplot(2,n,i+1+n)\n",
    "    plt.text(0.5,0.5,str(predicted_digit),fontsize=12,ha='center',va='center')\n",
    "    plt.axis('off')\n",
    "plt.show()\n",
    "plt.close()"
   ]
  }
 ],
 "metadata": {
  "kernelspec": {
   "display_name": "Python 3 (ipykernel)",
   "language": "python",
   "name": "python3"
  },
  "language_info": {
   "codemirror_mode": {
    "name": "ipython",
    "version": 3
   },
   "file_extension": ".py",
   "mimetype": "text/x-python",
   "name": "python",
   "nbconvert_exporter": "python",
   "pygments_lexer": "ipython3",
   "version": "3.9.13"
  }
 },
 "nbformat": 4,
 "nbformat_minor": 5
}
