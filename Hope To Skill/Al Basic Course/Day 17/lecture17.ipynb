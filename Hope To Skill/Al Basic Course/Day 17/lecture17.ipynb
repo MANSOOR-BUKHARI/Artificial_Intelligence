{
 "cells": [
  {
   "cell_type": "code",
   "execution_count": 1,
   "id": "d753679c",
   "metadata": {},
   "outputs": [],
   "source": [
    "import numpy as np\n",
    "import pandas as pd\n",
    "import matplotlib.pyplot as plt\n",
    "%matplotlib inline\n",
    "import sklearn as sk\n",
    "import seaborn as sns\n",
    "import warnings# to ignore FutureWarning\n",
    "warnings.simplefilter(action = \"ignore\", category = FutureWarning)"
   ]
  },
  {
   "cell_type": "code",
   "execution_count": 2,
   "id": "ea5b0104",
   "metadata": {},
   "outputs": [],
   "source": [
    "df = pd.read_csv('USA_Housing.csv')"
   ]
  },
  {
   "cell_type": "markdown",
   "id": "e6d3b891",
   "metadata": {},
   "source": [
    "# Shape of data"
   ]
  },
  {
   "cell_type": "code",
   "execution_count": 3,
   "id": "5a29d5e2",
   "metadata": {},
   "outputs": [
    {
     "data": {
      "text/plain": [
       "(5000, 7)"
      ]
     },
     "execution_count": 3,
     "metadata": {},
     "output_type": "execute_result"
    }
   ],
   "source": [
    "df.shape"
   ]
  },
  {
   "cell_type": "markdown",
   "id": "76a17da9",
   "metadata": {},
   "source": [
    "# View first 3 rows"
   ]
  },
  {
   "cell_type": "code",
   "execution_count": 4,
   "id": "0e3447fa",
   "metadata": {},
   "outputs": [
    {
     "data": {
      "text/html": [
       "<div>\n",
       "<style scoped>\n",
       "    .dataframe tbody tr th:only-of-type {\n",
       "        vertical-align: middle;\n",
       "    }\n",
       "\n",
       "    .dataframe tbody tr th {\n",
       "        vertical-align: top;\n",
       "    }\n",
       "\n",
       "    .dataframe thead th {\n",
       "        text-align: right;\n",
       "    }\n",
       "</style>\n",
       "<table border=\"1\" class=\"dataframe\">\n",
       "  <thead>\n",
       "    <tr style=\"text-align: right;\">\n",
       "      <th></th>\n",
       "      <th>Avg. Area Income</th>\n",
       "      <th>Avg. Area House Age</th>\n",
       "      <th>Avg. Area Number of Rooms</th>\n",
       "      <th>Avg. Area Number of Bedrooms</th>\n",
       "      <th>Area Population</th>\n",
       "      <th>Price</th>\n",
       "      <th>Address</th>\n",
       "    </tr>\n",
       "  </thead>\n",
       "  <tbody>\n",
       "    <tr>\n",
       "      <th>0</th>\n",
       "      <td>79545.458574</td>\n",
       "      <td>5.682861</td>\n",
       "      <td>7.009188</td>\n",
       "      <td>4.09</td>\n",
       "      <td>23086.800503</td>\n",
       "      <td>1.059034e+06</td>\n",
       "      <td>208 Michael Ferry Apt. 674\\nLaurabury, NE 3701...</td>\n",
       "    </tr>\n",
       "    <tr>\n",
       "      <th>1</th>\n",
       "      <td>79248.642455</td>\n",
       "      <td>6.002900</td>\n",
       "      <td>6.730821</td>\n",
       "      <td>3.09</td>\n",
       "      <td>40173.072174</td>\n",
       "      <td>1.505891e+06</td>\n",
       "      <td>188 Johnson Views Suite 079\\nLake Kathleen, CA...</td>\n",
       "    </tr>\n",
       "    <tr>\n",
       "      <th>2</th>\n",
       "      <td>61287.067179</td>\n",
       "      <td>5.865890</td>\n",
       "      <td>8.512727</td>\n",
       "      <td>5.13</td>\n",
       "      <td>36882.159400</td>\n",
       "      <td>1.058988e+06</td>\n",
       "      <td>9127 Elizabeth Stravenue\\nDanieltown, WI 06482...</td>\n",
       "    </tr>\n",
       "  </tbody>\n",
       "</table>\n",
       "</div>"
      ],
      "text/plain": [
       "   Avg. Area Income  Avg. Area House Age  Avg. Area Number of Rooms  \\\n",
       "0      79545.458574             5.682861                   7.009188   \n",
       "1      79248.642455             6.002900                   6.730821   \n",
       "2      61287.067179             5.865890                   8.512727   \n",
       "\n",
       "   Avg. Area Number of Bedrooms  Area Population         Price  \\\n",
       "0                          4.09     23086.800503  1.059034e+06   \n",
       "1                          3.09     40173.072174  1.505891e+06   \n",
       "2                          5.13     36882.159400  1.058988e+06   \n",
       "\n",
       "                                             Address  \n",
       "0  208 Michael Ferry Apt. 674\\nLaurabury, NE 3701...  \n",
       "1  188 Johnson Views Suite 079\\nLake Kathleen, CA...  \n",
       "2  9127 Elizabeth Stravenue\\nDanieltown, WI 06482...  "
      ]
     },
     "execution_count": 4,
     "metadata": {},
     "output_type": "execute_result"
    }
   ],
   "source": [
    "df.head(3)"
   ]
  },
  {
   "cell_type": "markdown",
   "id": "491ba949",
   "metadata": {},
   "source": [
    "# info of data"
   ]
  },
  {
   "cell_type": "code",
   "execution_count": 5,
   "id": "422e96d3",
   "metadata": {},
   "outputs": [
    {
     "name": "stdout",
     "output_type": "stream",
     "text": [
      "<class 'pandas.core.frame.DataFrame'>\n",
      "RangeIndex: 5000 entries, 0 to 4999\n",
      "Data columns (total 7 columns):\n",
      " #   Column                        Non-Null Count  Dtype  \n",
      "---  ------                        --------------  -----  \n",
      " 0   Avg. Area Income              5000 non-null   float64\n",
      " 1   Avg. Area House Age           5000 non-null   float64\n",
      " 2   Avg. Area Number of Rooms     5000 non-null   float64\n",
      " 3   Avg. Area Number of Bedrooms  5000 non-null   float64\n",
      " 4   Area Population               5000 non-null   float64\n",
      " 5   Price                         5000 non-null   float64\n",
      " 6   Address                       5000 non-null   object \n",
      "dtypes: float64(6), object(1)\n",
      "memory usage: 273.6+ KB\n"
     ]
    }
   ],
   "source": [
    "df.info()"
   ]
  },
  {
   "cell_type": "markdown",
   "id": "a8ea98c5",
   "metadata": {},
   "source": [
    "# Missing data"
   ]
  },
  {
   "cell_type": "code",
   "execution_count": 6,
   "id": "9761e5c7",
   "metadata": {},
   "outputs": [
    {
     "data": {
      "image/png": "[encoded data removed]",
      "text/plain": [
       "<Figure size 640x480 with 1 Axes>"
      ]
     },
     "metadata": {},
     "output_type": "display_data"
    }
   ],
   "source": [
    "sns.heatmap(df.isnull(),yticklabels=False,cbar=False,cmap = 'tab20c_r')\n",
    "plt.title('Missing Data: Training Set')\n",
    "plt.show()"
   ]
  },
  {
   "cell_type": "markdown",
   "id": "9860c627",
   "metadata": {},
   "source": [
    "# Remove Address, as it is not necessary for prediction"
   ]
  },
  {
   "cell_type": "code",
   "execution_count": 7,
   "id": "766460d4",
   "metadata": {},
   "outputs": [],
   "source": [
    "df.drop(\"Address\",inplace=True,axis=1)"
   ]
  },
  {
   "cell_type": "markdown",
   "id": "37b07ccb",
   "metadata": {},
   "source": [
    "# Show first 3 rows"
   ]
  },
  {
   "cell_type": "code",
   "execution_count": 8,
   "id": "39bb131a",
   "metadata": {},
   "outputs": [
    {
     "data": {
      "text/html": [
       "<div>\n",
       "<style scoped>\n",
       "    .dataframe tbody tr th:only-of-type {\n",
       "        vertical-align: middle;\n",
       "    }\n",
       "\n",
       "    .dataframe tbody tr th {\n",
       "        vertical-align: top;\n",
       "    }\n",
       "\n",
       "    .dataframe thead th {\n",
       "        text-align: right;\n",
       "    }\n",
       "</style>\n",
       "<table border=\"1\" class=\"dataframe\">\n",
       "  <thead>\n",
       "    <tr style=\"text-align: right;\">\n",
       "      <th></th>\n",
       "      <th>Avg. Area Income</th>\n",
       "      <th>Avg. Area House Age</th>\n",
       "      <th>Avg. Area Number of Rooms</th>\n",
       "      <th>Avg. Area Number of Bedrooms</th>\n",
       "      <th>Area Population</th>\n",
       "      <th>Price</th>\n",
       "    </tr>\n",
       "  </thead>\n",
       "  <tbody>\n",
       "    <tr>\n",
       "      <th>0</th>\n",
       "      <td>79545.458574</td>\n",
       "      <td>5.682861</td>\n",
       "      <td>7.009188</td>\n",
       "      <td>4.09</td>\n",
       "      <td>23086.800503</td>\n",
       "      <td>1.059034e+06</td>\n",
       "    </tr>\n",
       "    <tr>\n",
       "      <th>1</th>\n",
       "      <td>79248.642455</td>\n",
       "      <td>6.002900</td>\n",
       "      <td>6.730821</td>\n",
       "      <td>3.09</td>\n",
       "      <td>40173.072174</td>\n",
       "      <td>1.505891e+06</td>\n",
       "    </tr>\n",
       "    <tr>\n",
       "      <th>2</th>\n",
       "      <td>61287.067179</td>\n",
       "      <td>5.865890</td>\n",
       "      <td>8.512727</td>\n",
       "      <td>5.13</td>\n",
       "      <td>36882.159400</td>\n",
       "      <td>1.058988e+06</td>\n",
       "    </tr>\n",
       "  </tbody>\n",
       "</table>\n",
       "</div>"
      ],
      "text/plain": [
       "   Avg. Area Income  Avg. Area House Age  Avg. Area Number of Rooms  \\\n",
       "0      79545.458574             5.682861                   7.009188   \n",
       "1      79248.642455             6.002900                   6.730821   \n",
       "2      61287.067179             5.865890                   8.512727   \n",
       "\n",
       "   Avg. Area Number of Bedrooms  Area Population         Price  \n",
       "0                          4.09     23086.800503  1.059034e+06  \n",
       "1                          3.09     40173.072174  1.505891e+06  \n",
       "2                          5.13     36882.159400  1.058988e+06  "
      ]
     },
     "execution_count": 8,
     "metadata": {},
     "output_type": "execute_result"
    }
   ],
   "source": [
    "df.head(3)"
   ]
  },
  {
   "cell_type": "markdown",
   "id": "5cb7cb9a",
   "metadata": {},
   "source": [
    "# Remove missing rows"
   ]
  },
  {
   "cell_type": "code",
   "execution_count": 9,
   "id": "96ff5603",
   "metadata": {},
   "outputs": [
    {
     "data": {
      "text/plain": [
       "Avg. Area Income                0\n",
       "Avg. Area House Age             0\n",
       "Avg. Area Number of Rooms       0\n",
       "Avg. Area Number of Bedrooms    0\n",
       "Area Population                 0\n",
       "Price                           0\n",
       "dtype: int64"
      ]
     },
     "execution_count": 9,
     "metadata": {},
     "output_type": "execute_result"
    }
   ],
   "source": [
    "df.isna().sum()"
   ]
  },
  {
   "cell_type": "code",
   "execution_count": 10,
   "id": "181405ea",
   "metadata": {},
   "outputs": [],
   "source": [
    "# As no row is missing but we run remove na for our satisfication\n",
    "df.dropna(inplace=True)"
   ]
  },
  {
   "cell_type": "markdown",
   "id": "04e4c93a",
   "metadata": {},
   "source": [
    "# Neumeric Features of data"
   ]
  },
  {
   "cell_type": "code",
   "execution_count": 11,
   "id": "c433e3f3",
   "metadata": {},
   "outputs": [
    {
     "data": {
      "text/html": [
       "<div>\n",
       "<style scoped>\n",
       "    .dataframe tbody tr th:only-of-type {\n",
       "        vertical-align: middle;\n",
       "    }\n",
       "\n",
       "    .dataframe tbody tr th {\n",
       "        vertical-align: top;\n",
       "    }\n",
       "\n",
       "    .dataframe thead th {\n",
       "        text-align: right;\n",
       "    }\n",
       "</style>\n",
       "<table border=\"1\" class=\"dataframe\">\n",
       "  <thead>\n",
       "    <tr style=\"text-align: right;\">\n",
       "      <th></th>\n",
       "      <th>Avg. Area Income</th>\n",
       "      <th>Avg. Area House Age</th>\n",
       "      <th>Avg. Area Number of Rooms</th>\n",
       "      <th>Avg. Area Number of Bedrooms</th>\n",
       "      <th>Area Population</th>\n",
       "      <th>Price</th>\n",
       "    </tr>\n",
       "  </thead>\n",
       "  <tbody>\n",
       "    <tr>\n",
       "      <th>count</th>\n",
       "      <td>5000.000000</td>\n",
       "      <td>5000.000000</td>\n",
       "      <td>5000.000000</td>\n",
       "      <td>5000.000000</td>\n",
       "      <td>5000.000000</td>\n",
       "      <td>5.000000e+03</td>\n",
       "    </tr>\n",
       "    <tr>\n",
       "      <th>mean</th>\n",
       "      <td>68583.108984</td>\n",
       "      <td>5.977222</td>\n",
       "      <td>6.987792</td>\n",
       "      <td>3.981330</td>\n",
       "      <td>36163.516039</td>\n",
       "      <td>1.232073e+06</td>\n",
       "    </tr>\n",
       "    <tr>\n",
       "      <th>std</th>\n",
       "      <td>10657.991214</td>\n",
       "      <td>0.991456</td>\n",
       "      <td>1.005833</td>\n",
       "      <td>1.234137</td>\n",
       "      <td>9925.650114</td>\n",
       "      <td>3.531176e+05</td>\n",
       "    </tr>\n",
       "    <tr>\n",
       "      <th>min</th>\n",
       "      <td>17796.631190</td>\n",
       "      <td>2.644304</td>\n",
       "      <td>3.236194</td>\n",
       "      <td>2.000000</td>\n",
       "      <td>172.610686</td>\n",
       "      <td>1.593866e+04</td>\n",
       "    </tr>\n",
       "    <tr>\n",
       "      <th>25%</th>\n",
       "      <td>61480.562388</td>\n",
       "      <td>5.322283</td>\n",
       "      <td>6.299250</td>\n",
       "      <td>3.140000</td>\n",
       "      <td>29403.928702</td>\n",
       "      <td>9.975771e+05</td>\n",
       "    </tr>\n",
       "    <tr>\n",
       "      <th>50%</th>\n",
       "      <td>68804.286404</td>\n",
       "      <td>5.970429</td>\n",
       "      <td>7.002902</td>\n",
       "      <td>4.050000</td>\n",
       "      <td>36199.406689</td>\n",
       "      <td>1.232669e+06</td>\n",
       "    </tr>\n",
       "    <tr>\n",
       "      <th>75%</th>\n",
       "      <td>75783.338666</td>\n",
       "      <td>6.650808</td>\n",
       "      <td>7.665871</td>\n",
       "      <td>4.490000</td>\n",
       "      <td>42861.290769</td>\n",
       "      <td>1.471210e+06</td>\n",
       "    </tr>\n",
       "    <tr>\n",
       "      <th>max</th>\n",
       "      <td>107701.748378</td>\n",
       "      <td>9.519088</td>\n",
       "      <td>10.759588</td>\n",
       "      <td>6.500000</td>\n",
       "      <td>69621.713378</td>\n",
       "      <td>2.469066e+06</td>\n",
       "    </tr>\n",
       "  </tbody>\n",
       "</table>\n",
       "</div>"
      ],
      "text/plain": [
       "       Avg. Area Income  Avg. Area House Age  Avg. Area Number of Rooms  \\\n",
       "count       5000.000000          5000.000000                5000.000000   \n",
       "mean       68583.108984             5.977222                   6.987792   \n",
       "std        10657.991214             0.991456                   1.005833   \n",
       "min        17796.631190             2.644304                   3.236194   \n",
       "25%        61480.562388             5.322283                   6.299250   \n",
       "50%        68804.286404             5.970429                   7.002902   \n",
       "75%        75783.338666             6.650808                   7.665871   \n",
       "max       107701.748378             9.519088                  10.759588   \n",
       "\n",
       "       Avg. Area Number of Bedrooms  Area Population         Price  \n",
       "count                   5000.000000      5000.000000  5.000000e+03  \n",
       "mean                       3.981330     36163.516039  1.232073e+06  \n",
       "std                        1.234137      9925.650114  3.531176e+05  \n",
       "min                        2.000000       172.610686  1.593866e+04  \n",
       "25%                        3.140000     29403.928702  9.975771e+05  \n",
       "50%                        4.050000     36199.406689  1.232669e+06  \n",
       "75%                        4.490000     42861.290769  1.471210e+06  \n",
       "max                        6.500000     69621.713378  2.469066e+06  "
      ]
     },
     "execution_count": 11,
     "metadata": {},
     "output_type": "execute_result"
    }
   ],
   "source": [
    "df.describe()"
   ]
  },
  {
   "cell_type": "markdown",
   "id": "4137135e",
   "metadata": {},
   "source": [
    "# **GETTING MODEL READY**\n",
    "\n",
    "Now that we've explored the data, it is time to get these features 'model ready'. Categorial features will need to be converted into 'dummy variables', otherwise a machine learning algorithm will not be able to take in those features as inputs."
   ]
  },
  {
   "cell_type": "code",
   "execution_count": 12,
   "id": "828a2656",
   "metadata": {},
   "outputs": [
    {
     "data": {
      "text/plain": [
       "(5000, 6)"
      ]
     },
     "execution_count": 12,
     "metadata": {},
     "output_type": "execute_result"
    }
   ],
   "source": [
    "df.shape"
   ]
  },
  {
   "cell_type": "markdown",
   "id": "1047b240",
   "metadata": {},
   "source": [
    "> # Now the train data is perfect for a machine learning algorithm:  \n",
    "- all the data is numeric\n",
    "- everything is concatenated together"
   ]
  },
  {
   "cell_type": "markdown",
   "id": "0b8f1c15",
   "metadata": {},
   "source": [
    "# Machine Learning"
   ]
  },
  {
   "cell_type": "markdown",
   "id": "f17e2e78",
   "metadata": {},
   "source": [
    "### split data"
   ]
  },
  {
   "cell_type": "code",
   "execution_count": 13,
   "id": "945db132",
   "metadata": {},
   "outputs": [],
   "source": [
    "from sklearn.model_selection import train_test_split"
   ]
  },
  {
   "cell_type": "markdown",
   "id": "914c7dec",
   "metadata": {},
   "source": [
    "## Target Variable Splitting"
   ]
  },
  {
   "cell_type": "code",
   "execution_count": 14,
   "id": "8fa606b1",
   "metadata": {},
   "outputs": [],
   "source": [
    "X = df.drop('Price',axis=1)\n",
    "y = df['Price']"
   ]
  },
  {
   "cell_type": "markdown",
   "id": "7c272366",
   "metadata": {},
   "source": [
    "# Preporcessing"
   ]
  },
  {
   "cell_type": "code",
   "execution_count": 15,
   "id": "71147877",
   "metadata": {},
   "outputs": [],
   "source": [
    "from sklearn import preprocessing"
   ]
  },
  {
   "cell_type": "code",
   "execution_count": 16,
   "id": "c388942d",
   "metadata": {},
   "outputs": [],
   "source": [
    "pre_process = preprocessing.StandardScaler().fit(X)\n",
    "x_transform = pre_process.fit_transform(X)"
   ]
  },
  {
   "cell_type": "markdown",
   "id": "7ca31772",
   "metadata": {},
   "source": [
    "##### Price is out target variable"
   ]
  },
  {
   "cell_type": "markdown",
   "id": "53b398de",
   "metadata": {},
   "source": [
    "# Split data into train and test"
   ]
  },
  {
   "cell_type": "code",
   "execution_count": 31,
   "id": "6fdc29ff",
   "metadata": {},
   "outputs": [],
   "source": [
    "Xtrain,Xtest,Ytrain,Ytest = train_test_split(x_transform,y,test_size=0.10,random_state=101)"
   ]
  },
  {
   "cell_type": "code",
   "execution_count": 32,
   "id": "015edcc3",
   "metadata": {},
   "outputs": [
    {
     "data": {
      "text/plain": [
       "(4500, 5)"
      ]
     },
     "execution_count": 32,
     "metadata": {},
     "output_type": "execute_result"
    }
   ],
   "source": [
    "Xtrain.shape"
   ]
  },
  {
   "cell_type": "code",
   "execution_count": 33,
   "id": "23976cd5",
   "metadata": {},
   "outputs": [
    {
     "data": {
      "text/plain": [
       "(500, 5)"
      ]
     },
     "execution_count": 33,
     "metadata": {},
     "output_type": "execute_result"
    }
   ],
   "source": [
    "Xtest.shape"
   ]
  },
  {
   "cell_type": "markdown",
   "id": "c98116bc",
   "metadata": {},
   "source": [
    "# Linear Regression"
   ]
  },
  {
   "cell_type": "code",
   "execution_count": 34,
   "id": "26dfd9c1",
   "metadata": {},
   "outputs": [],
   "source": [
    "from sklearn.linear_model import LinearRegression"
   ]
  },
  {
   "cell_type": "code",
   "execution_count": 35,
   "id": "6eb4c336",
   "metadata": {},
   "outputs": [],
   "source": [
    "model = LinearRegression()"
   ]
  },
  {
   "cell_type": "markdown",
   "id": "c35e115e",
   "metadata": {},
   "source": [
    "# Pass training data into model"
   ]
  },
  {
   "cell_type": "code",
   "execution_count": 36,
   "id": "df8aae9b",
   "metadata": {},
   "outputs": [
    {
     "data": {
      "text/plain": [
       "LinearRegression()"
      ]
     },
     "execution_count": 36,
     "metadata": {},
     "output_type": "execute_result"
    }
   ],
   "source": [
    "model.fit(Xtrain,Ytrain)"
   ]
  },
  {
   "cell_type": "markdown",
   "id": "29e572a9",
   "metadata": {},
   "source": [
    "# Model Testing"
   ]
  },
  {
   "cell_type": "code",
   "execution_count": 37,
   "id": "2d2b2d6a",
   "metadata": {},
   "outputs": [],
   "source": [
    "y_Predict = model.predict(Xtest)"
   ]
  },
  {
   "cell_type": "code",
   "execution_count": 38,
   "id": "e748afa8",
   "metadata": {},
   "outputs": [
    {
     "data": {
      "text/plain": [
       "(500,)"
      ]
     },
     "execution_count": 38,
     "metadata": {},
     "output_type": "execute_result"
    }
   ],
   "source": [
    "y_Predict.shape"
   ]
  },
  {
   "cell_type": "markdown",
   "id": "22f31b3e",
   "metadata": {},
   "source": [
    "# Combine actual value and predicted value side by side"
   ]
  },
  {
   "cell_type": "code",
   "execution_count": 39,
   "id": "ee4b3ae2",
   "metadata": {},
   "outputs": [],
   "source": [
    "result = np.column_stack((Ytest,y_Predict))"
   ]
  },
  {
   "cell_type": "code",
   "execution_count": 40,
   "id": "5e332953",
   "metadata": {},
   "outputs": [
    {
     "name": "stdout",
     "output_type": "stream",
     "text": [
      "Actual Value | Predicted Value\n",
      "******************************\n",
      "  1251688.62 |   1257098.10\n",
      "   873048.32 |    822086.76\n",
      "  1696977.66 |   1739484.60\n",
      "  1063964.29 |    973128.93\n",
      "   948788.28 |    993918.46\n",
      "   730043.65 |    645734.60\n",
      "  1166925.15 |   1074412.82\n",
      "   705444.12 |    856463.98\n",
      "  1499988.88 |   1445048.63\n",
      "  1288199.15 |   1201847.72\n",
      "  1441736.76 |   1454475.52\n",
      "  1279681.15 |   1296582.99\n",
      "  1754969.16 |   1736858.05\n",
      "  1511653.45 |   1336694.59\n",
      "  1441956.20 |   1386280.01\n",
      "  1119992.62 |   1223122.35\n",
      "   727866.53 |    615840.79\n",
      "  1138885.10 |    964515.62\n",
      "  1074263.32 |   1222020.64\n",
      "  1386473.37 |   1197532.32\n",
      "   404643.60 |    506756.97\n",
      "  1449829.49 |   1767894.37\n",
      "  1775874.76 |   1854829.43\n",
      "  1202050.58 |   1198521.38\n",
      "  1105737.46 |   1065384.60\n",
      "  1835564.69 |   1810199.63\n",
      "  1795428.77 |   1767830.26\n",
      "  1424283.37 |   1440162.97\n",
      "  1365945.08 |   1386122.52\n",
      "  1492011.50 |   1539972.95\n",
      "   624432.97 |    729561.93\n",
      "  1827476.20 |   1754434.69\n",
      "  1575680.04 |   1465273.07\n",
      "  1051519.07 |   1026021.80\n",
      "  1454681.94 |   1283514.58\n",
      "   973197.78 |    917688.33\n",
      "  1166750.31 |   1185681.04\n",
      "   883021.90 |   1000137.90\n",
      "  1329800.05 |   1329344.80\n",
      "   743212.42 |    784262.30\n",
      "  1412144.51 |   1392528.48\n",
      "   723750.07 |    576569.30\n",
      "   728402.00 |    823465.14\n",
      "  1845325.36 |   1893895.24\n",
      "  1708127.58 |   1671565.74\n",
      "   922054.13 |    964720.06\n",
      "  1243879.83 |   1129280.91\n",
      "   882057.17 |    792574.97\n",
      "  1050239.90 |   1159381.44\n",
      "  1521141.35 |   1473209.25\n",
      "  1534111.58 |   1459527.32\n",
      "  1221823.70 |   1164492.86\n",
      "  1279803.95 |   1098752.99\n",
      "  1203623.84 |   1360158.14\n",
      "   776906.33 |    843194.09\n",
      "  1143377.60 |    985298.52\n",
      "  1148720.91 |   1123531.59\n",
      "  1129798.37 |   1252412.10\n",
      "  1388596.24 |   1426615.62\n",
      "   727366.95 |    500001.34\n",
      "  1500821.47 |   1461369.45\n",
      "  1059406.13 |   1106159.93\n",
      "   750119.73 |    660292.66\n",
      "  1246830.19 |   1247445.63\n",
      "  1445731.63 |   1342358.37\n",
      "  1352547.69 |   1358593.89\n",
      "   786430.90 |    816281.25\n",
      "  1400498.27 |   1485699.44\n",
      "  1454699.23 |   1397988.12\n",
      "   996924.69 |    885967.19\n",
      "   914325.03 |    858477.75\n",
      "  1324382.18 |   1213733.55\n",
      "  1211442.94 |   1102498.29\n",
      "  1740719.11 |   1838200.42\n",
      "   837540.17 |    924235.35\n",
      "   831471.53 |    856710.55\n",
      "   894203.57 |    823276.48\n",
      "  1295014.62 |   1397640.82\n",
      "   773360.70 |    777050.96\n",
      "  1735826.01 |   1638113.60\n",
      "  1089601.88 |   1079086.78\n",
      "  1560838.45 |   1356632.49\n",
      "  1359762.69 |   1320957.98\n",
      "  1348873.43 |   1197171.56\n",
      "   555811.41 |    758865.57\n",
      "   745523.84 |    651243.66\n",
      "   896303.80 |   1057553.46\n",
      "  1382172.29 |   1383409.63\n",
      "  1027311.51 |   1031206.94\n",
      "  1183272.51 |   1297479.96\n",
      "   674817.54 |    549966.59\n",
      "  1587350.29 |   1706825.71\n",
      "   861013.95 |    841736.61\n",
      "  1456969.58 |   1627733.58\n",
      "   920498.94 |   1050396.71\n",
      "   987004.08 |    948938.87\n",
      "  1237224.86 |   1187100.16\n",
      "  1390870.10 |   1557010.68\n",
      "   814879.21 |    901452.49\n",
      "  1086447.51 |    997238.67\n",
      "  1205212.29 |   1223286.22\n",
      "  1641226.58 |   1591630.92\n",
      "  1101239.49 |    978698.82\n",
      "  1443470.04 |   1428351.65\n",
      "   865816.68 |   1015434.65\n",
      "  1603268.21 |   1446520.01\n",
      "   792449.54 |    880186.04\n",
      "   939040.00 |    831008.29\n",
      "   897479.95 |   1023548.67\n",
      "  1898168.68 |   1845754.47\n",
      "  1877941.97 |   1926387.98\n",
      "  1321388.62 |   1405561.75\n",
      "  1218635.85 |   1042417.73\n",
      "  1046818.07 |   1054544.94\n",
      "  1462422.26 |   1442288.95\n",
      "  1020536.19 |   1029962.23\n",
      "  1356146.26 |   1186409.48\n",
      "  1474546.76 |   1407491.44\n",
      "  1167918.06 |   1265576.37\n",
      "  1794014.30 |   1563843.92\n",
      "   689155.57 |    765803.99\n",
      "  1190213.51 |   1394401.47\n",
      "  2120888.35 |   2083228.78\n",
      "  1472809.49 |   1468229.34\n",
      "  1172188.19 |   1326314.16\n",
      "  1315828.86 |   1314447.97\n",
      "   911656.11 |    919625.53\n",
      "   685775.60 |    782380.97\n",
      "  1856211.35 |   1677493.11\n",
      "  1079000.32 |   1173641.32\n",
      "   936864.69 |    862979.45\n",
      "   714148.41 |    829973.20\n",
      "  1523915.14 |   1551093.28\n",
      "   842235.80 |    814088.07\n",
      "   686644.61 |    629087.72\n",
      "  1085534.18 |   1229734.69\n",
      "  1064939.52 |   1007824.20\n",
      "  1072253.83 |   1134517.82\n",
      "  1760880.45 |   1760419.71\n",
      "  1186019.80 |   1185969.71\n",
      "   481391.64 |    590519.78\n",
      "  1481940.76 |   1392510.50\n",
      "  1574181.73 |   1381448.65\n",
      "  1816152.27 |   1725628.40\n",
      "  1110394.03 |   1171125.23\n",
      "  1030729.58 |   1021769.70\n",
      "  1727982.99 |   1732382.79\n",
      "  1309937.40 |   1095320.12\n",
      "  1554301.94 |   1641664.86\n",
      "  1419536.26 |   1424629.01\n",
      "  1309829.94 |   1371128.47\n",
      "  1012321.57 |    958990.41\n",
      "  1705889.89 |   1758291.66\n",
      "  1028683.04 |   1213703.54\n",
      "  1110525.99 |   1230795.71\n",
      "   839745.68 |    949573.54\n",
      "  1240754.93 |   1241838.95\n",
      "  1341449.57 |   1261011.75\n",
      "  1366405.97 |   1278217.39\n",
      "  1014226.30 |   1125478.76\n",
      "  1512578.55 |   1513182.23\n",
      "  1699952.81 |   1559804.92\n",
      "   925394.14 |    797449.64\n",
      "  1626368.67 |   1547262.13\n",
      "  1280910.19 |   1278736.65\n",
      "  1110931.83 |   1047589.66\n",
      "  1239459.81 |   1260392.64\n",
      "  1676172.30 |   1646590.02\n",
      "   937628.35 |   1109660.27\n",
      "   483986.11 |    476220.07\n",
      "  1473071.95 |   1648679.68\n",
      "  1336377.83 |   1314294.93\n",
      "  1739761.37 |   1664562.48\n",
      "  1599911.37 |   1675635.80\n",
      "  1673294.25 |   1690852.65\n",
      "  1808341.47 |   1810535.96\n",
      "  1669681.23 |   1555415.75\n",
      "   777144.25 |    872651.68\n",
      "  1229702.95 |   1382432.68\n",
      "  1479295.57 |   1587824.08\n",
      "  1213351.63 |   1393209.77\n",
      "  1188255.08 |   1125235.06\n",
      "  1406437.69 |   1454320.69\n",
      "   962591.66 |    893088.14\n",
      "   934408.71 |    928601.97\n",
      "  1098518.13 |   1125972.00\n",
      "  1063069.92 |   1189831.65\n",
      "  1064685.70 |   1093887.03\n",
      "  1404540.76 |   1353495.05\n",
      "  1102821.44 |   1105030.47\n",
      "  1053891.64 |   1040464.48\n",
      "  1817829.53 |   1840688.88\n",
      "  1128045.10 |   1270196.37\n",
      "  1182459.77 |   1196823.59\n",
      "  2050594.05 |   1981946.50\n",
      "  1057697.70 |   1172366.76\n",
      "   533386.77 |    664623.88\n",
      "  1578141.05 |   1515285.39\n",
      "  1239318.13 |   1208961.28\n",
      "  1182670.14 |   1121816.80\n",
      "  1598615.97 |   1735861.13\n",
      "   966084.42 |    868405.91\n",
      "  1025701.59 |    969754.34\n",
      "  1314770.47 |   1332364.62\n",
      "  1128895.12 |    909142.72\n",
      "  1473680.60 |   1330222.54\n",
      "  1440106.86 |   1265446.29\n",
      "   983994.27 |    971473.93\n",
      "  1065907.08 |   1241221.36\n",
      "  2059301.34 |   1989212.22\n",
      "  1471746.56 |   1502547.10\n",
      "  1161457.85 |   1143269.98\n",
      "  1825858.26 |   1891128.93\n",
      "  1693693.55 |   1544234.59\n",
      "  1246791.03 |   1257098.84\n",
      "  1167621.05 |   1267528.11\n",
      "  1405059.64 |   1336935.88\n",
      "   294170.75 |    251726.93\n",
      "  1181663.48 |   1127576.07\n",
      "  1085218.86 |   1253095.02\n",
      "  1418045.72 |   1363828.75\n",
      "  1661592.79 |   1729167.08\n",
      "   980141.22 |   1046793.19\n",
      "   885920.55 |   1054433.91\n",
      "  1445804.83 |   1426085.84\n",
      "   812512.24 |    932556.43\n",
      "   856383.50 |    867334.14\n",
      "  1739893.56 |   1649516.74\n",
      "  1384787.46 |   1181607.40\n",
      "  1353729.53 |   1340578.59\n",
      "   889845.60 |    818423.06\n",
      "  1494241.23 |   1561648.87\n",
      "  1290043.37 |   1348930.65\n",
      "  1813856.31 |   1813093.07\n",
      "  1306207.11 |   1262654.38\n",
      "  1165877.67 |   1220567.51\n",
      "   661043.36 |    649334.56\n",
      "  1273631.27 |   1331335.44\n",
      "   288708.91 |    394410.55\n",
      "  1317234.04 |   1282814.43\n",
      "  1238396.41 |   1354538.02\n",
      "  1605398.57 |   1593773.92\n",
      "   946182.05 |   1019091.93\n",
      "  1073857.07 |   1155879.32\n",
      "  1619721.72 |   1478767.27\n",
      "  1594415.23 |   1605540.47\n",
      "  1210184.02 |   1335689.46\n",
      "  1846350.02 |   1786774.38\n",
      "  1772390.55 |   1795658.29\n",
      "   989643.03 |    945957.99\n",
      "  1087802.89 |   1238608.98\n",
      "  1085101.32 |   1131981.48\n",
      "  1417691.11 |   1505069.17\n",
      "  1397341.86 |   1172502.38\n",
      "  1533492.80 |   1573047.28\n",
      "  1522083.94 |   1619486.96\n",
      "   266298.88 |    331259.66\n",
      "   492984.59 |    425396.75\n",
      "   729989.35 |    808174.05\n",
      "  1562887.22 |   1809043.01\n",
      "   965136.34 |   1161801.20\n",
      "  1249173.69 |   1288807.33\n",
      "   401148.57 |    487544.11\n",
      "  1351007.04 |   1355465.50\n",
      "  1723706.76 |   1791782.58\n",
      "   557228.78 |    528717.12\n",
      "  1000713.59 |    894564.98\n",
      "  1205706.71 |   1235034.80\n",
      "  1288490.27 |   1206220.27\n",
      "  1094574.19 |   1142472.94\n",
      "  1501497.53 |   1543751.21\n",
      "  1421216.50 |   1398422.80\n",
      "   818057.90 |    810341.11\n",
      "   828127.03 |    917407.47\n",
      "  1729559.81 |   1715661.78\n",
      "   982344.81 |   1073147.77\n",
      "  1122083.25 |   1264058.53\n",
      "  1620949.44 |   1564587.44\n",
      "  1176111.79 |   1152496.10\n",
      "  1194191.88 |   1086736.26\n",
      "  1518787.76 |   1720484.27\n",
      "  1385783.52 |   1400338.35\n",
      "  1122240.36 |   1096358.38\n",
      "  1671669.45 |   1645314.58\n",
      "  1135676.18 |   1062595.51\n",
      "  1859883.66 |   1730666.43\n",
      "  1214482.38 |   1040247.34\n",
      "  1506798.75 |   1360355.59\n",
      "  1518706.28 |   1346014.53\n",
      "  1289042.12 |   1331649.16\n",
      "   948366.97 |   1003151.29\n",
      "  1363106.13 |   1344979.99\n",
      "  1232209.48 |   1130910.76\n",
      "  1524621.73 |   1560673.51\n",
      "  1492786.63 |   1705060.85\n",
      "  1976170.09 |   2035370.64\n",
      "   806121.84 |    833072.34\n",
      "   961354.29 |   1043358.45\n",
      "  1202987.83 |   1136302.20\n",
      "   904785.16 |    934173.90\n",
      "  1217021.52 |   1371720.76\n",
      "   854812.26 |    815174.18\n",
      "  1281741.16 |   1250408.74\n",
      "  1446597.12 |   1363645.95\n",
      "  1460450.98 |   1497641.34\n",
      "  2275455.31 |   2229719.77\n",
      "   585608.63 |    778318.61\n",
      "  1178272.30 |   1191144.01\n",
      "  1002974.21 |   1095618.58\n",
      "  1367641.27 |   1271396.63\n",
      "  1580691.62 |   1627200.50\n",
      "   867044.96 |    920094.96\n",
      "  1158171.73 |   1007429.05\n",
      "  1551094.81 |   1593416.76\n",
      "   856261.62 |    846708.13\n",
      "   931358.00 |    849909.08\n",
      "   485533.68 |    573217.42\n",
      "  1869886.31 |   1802975.67\n",
      "  1381117.70 |   1486069.85\n",
      "  1726719.07 |   1683577.68\n",
      "  1244631.52 |   1230926.06\n",
      "  1270047.53 |   1355678.21\n",
      "  1250882.29 |   1096602.21\n",
      "  1228978.23 |   1191749.90\n",
      "  1052567.70 |   1125638.26\n",
      "   963655.58 |   1084213.15\n",
      "  1104701.23 |   1044089.96\n",
      "  2056692.77 |   2013152.77\n",
      "   805433.74 |    751261.17\n",
      "   984349.61 |   1126463.74\n",
      "  1537310.62 |   1353635.28\n",
      "  1481946.19 |   1583241.33\n",
      "  1107077.91 |   1130758.31\n",
      "  1049824.00 |   1127871.87\n",
      "  1656080.09 |   1557684.41\n",
      "  1510659.23 |   1471898.14\n",
      "  1168993.76 |   1169392.41\n",
      "  1014548.23 |   1057647.69\n",
      "  1914072.95 |   1727953.75\n",
      "  1082825.64 |   1097384.13\n",
      "  1919693.23 |   1878448.81\n",
      "  1012768.76 |    950448.34\n",
      "   152071.87 |    220138.60\n",
      "  1394518.42 |   1469453.19\n",
      "  1422195.88 |   1352042.49\n",
      "  1876746.49 |   1964792.22\n",
      "   503065.51 |    472146.96\n",
      "   942838.16 |   1079107.83\n",
      "  1454834.98 |   1397518.51\n",
      "  1037147.47 |   1035224.52\n",
      "   862865.82 |    789751.72\n",
      "  1538039.60 |   1446225.32\n",
      "  1202227.96 |   1101344.64\n",
      "  1748864.71 |   1691840.15\n",
      "  1211110.08 |   1104612.41\n",
      "  1080735.98 |   1078812.12\n",
      "  1591383.74 |   1709717.22\n",
      "  1020145.97 |   1133935.34\n",
      "   905435.84 |    873536.14\n",
      "   847387.21 |    872353.47\n",
      "   583016.79 |    567716.64\n",
      "  1574919.91 |   1540396.54\n",
      "  1282258.09 |   1214553.41\n",
      "  1809154.29 |   1751381.40\n",
      "   744291.03 |    777707.73\n",
      "  1143215.03 |   1004818.20\n",
      "  1558196.97 |   1700489.87\n",
      "   566645.86 |    613824.82\n",
      "  1324470.44 |   1240330.71\n",
      "  1555490.62 |   1591477.92\n",
      "  1347279.21 |   1330047.79\n",
      "  1115549.27 |   1110601.09\n",
      "  1153516.92 |   1279717.52\n",
      "   954114.54 |    897538.11\n",
      "   799124.85 |    812772.71\n",
      "  1638541.94 |   1550684.73\n",
      "  1177744.97 |   1359629.41\n",
      "  1249092.93 |   1253430.63\n",
      "  1323952.03 |   1231368.87\n",
      "  1455737.13 |   1498791.84\n",
      "  1121093.17 |    918340.09\n",
      "  1266747.83 |   1329029.44\n",
      "  1071109.92 |   1090705.38\n",
      "  1116351.75 |    959167.52\n",
      "  1245785.05 |   1062654.68\n",
      "   885204.98 |    939078.18\n",
      "   934111.64 |    969305.37\n",
      "  1155801.25 |   1044706.25\n",
      "  1689690.75 |   1646826.94\n",
      "  1078577.27 |   1168225.71\n",
      "  1045704.70 |   1312540.06\n",
      "  1560693.10 |   1622518.87\n",
      "  1192677.55 |   1120214.47\n",
      "  1474417.27 |   1293773.61\n",
      "  1464710.21 |   1364121.14\n",
      "   883147.47 |   1044056.04\n",
      "  1032043.21 |   1044779.48\n",
      "  1451658.88 |   1444510.33\n",
      "  1068492.61 |   1313953.59\n",
      "  1004430.32 |   1055632.98\n",
      "  1986811.17 |   1952741.57\n",
      "  1617114.94 |   1514919.05\n",
      "  1159953.59 |   1204078.31\n",
      "  1865071.41 |   1981914.52\n",
      "   547918.33 |    681468.70\n",
      "  1872191.55 |   1725226.83\n",
      "  1382998.25 |   1462720.94\n",
      "  1499243.17 |   1413052.03\n",
      "  1056976.97 |   1075596.71\n",
      "  1009854.70 |   1050627.86\n",
      "  1449409.44 |   1204922.42\n",
      "  1073355.78 |    995463.26\n",
      "  1151341.85 |   1088142.09\n",
      "   716344.63 |    799460.24\n",
      "   894251.07 |    971819.67\n",
      "   849008.70 |    802494.55\n",
      "   798639.65 |    873248.32\n",
      "  1450122.72 |   1377074.67\n",
      "  1111710.90 |   1126769.22\n",
      "  1409439.08 |   1296743.79\n",
      "  1521730.79 |   1428029.90\n",
      "  1198725.49 |   1353571.52\n",
      "  1430796.76 |   1551613.37\n",
      "  1924155.58 |   1870167.37\n",
      "   840272.86 |    945377.67\n",
      "   587007.84 |    710790.95\n",
      "  1660295.80 |   1592354.05\n",
      "  1603944.38 |   1457521.69\n",
      "   664465.33 |    665293.05\n",
      "  1792753.50 |   1741289.91\n",
      "  1360908.32 |   1312595.58\n",
      "  1774715.48 |   1797321.61\n",
      "   768541.92 |    832969.14\n",
      "  1206393.18 |   1301176.02\n",
      "  1656401.84 |   1587725.58\n",
      "  1222760.86 |   1318699.33\n",
      "  1550036.52 |   1666447.72\n",
      "   922514.09 |    935777.06\n",
      "  1638969.27 |   1701927.58\n",
      "  1063344.63 |   1164155.32\n",
      "  1591934.19 |   1554255.05\n",
      "  1228362.75 |   1203446.88\n",
      "  2115010.70 |   2181118.79\n",
      "   764756.09 |   1049198.14\n",
      "  1061552.02 |   1085926.99\n",
      "   839194.07 |    689411.06\n",
      "  1290755.04 |   1223176.11\n",
      "  1200653.35 |   1233904.42\n",
      "   990894.05 |   1234880.24\n",
      "   885709.76 |    932266.20\n",
      "  1467271.56 |   1500634.40\n",
      "  1218011.06 |   1274093.64\n",
      "  1051567.95 |    947815.88\n",
      "  1059033.56 |   1223610.52\n",
      "  1220276.55 |   1197160.51\n",
      "  1149524.70 |   1126946.82\n",
      "  1628490.79 |   1430747.47\n",
      "   685355.42 |    654248.88\n",
      "   982790.87 |    895866.30\n",
      "   231189.82 |    295399.69\n",
      "  1166333.89 |   1322125.64\n",
      "   737202.46 |    805657.05\n",
      "  1474466.88 |   1233978.09\n",
      "  1126137.68 |   1103566.73\n",
      "   997827.25 |    908568.35\n",
      "  1047452.51 |   1128230.25\n",
      "  1582261.70 |   1744167.88\n",
      "   449331.58 |    550543.39\n",
      "   886321.02 |    886966.41\n",
      "  1210026.03 |   1317117.45\n",
      "  1204117.42 |   1103839.68\n",
      "  1321257.25 |   1267179.77\n",
      "   652752.97 |    772553.19\n",
      "  1381482.69 |   1279534.28\n",
      "  1522143.64 |   1406729.26\n",
      "  1562573.06 |   1438104.85\n",
      "  1204939.90 |   1242822.02\n",
      "  1047012.27 |    976484.33\n",
      "   999970.68 |    960014.04\n",
      "  1340909.80 |   1406729.66\n",
      "  1347083.07 |   1231876.84\n",
      "  1473278.44 |   1415047.23\n",
      "   943309.45 |   1040129.90\n",
      "   461473.57 |    406658.34\n",
      "  1907859.06 |   1832284.91\n",
      "   863297.18 |    996334.86\n",
      "  1592768.24 |   1601723.84\n",
      "  2054897.01 |   1892875.05\n",
      "   729688.59 |    838842.81\n",
      "   997448.73 |    942625.41\n",
      "  1930143.83 |   2020169.24\n",
      "  1009972.08 |    893109.79\n",
      "   990725.65 |   1103884.05\n",
      "  1869113.61 |   1855738.46\n",
      "  1448995.11 |   1374424.46\n",
      "  1273120.26 |   1347150.97\n",
      "   658646.18 |    838857.66\n",
      "  1749820.01 |   1868234.85\n",
      "  1053484.87 |   1046613.82\n",
      "   809121.11 |    837618.09\n"
     ]
    }
   ],
   "source": [
    "print(\"Actual Value | Predicted Value\")\n",
    "print(\"*\"*30)\n",
    "for actual,predicted in result:\n",
    "    print(f\"{actual:12.2f} | {predicted:12.2f}\")"
   ]
  },
  {
   "cell_type": "markdown",
   "id": "d3cd6541",
   "metadata": {},
   "source": [
    "## **Residual Analysis**\n",
    "Residual analysis in linear regression is a way to check how well the model fits the data. It involves looking at the differences (residuals) between the actual data points and the predictions from the model.\n",
    "\n",
    "In a good model, the residuals should be randomly scattered around zero on a plot. If there are patterns or a fan-like shape, it suggests the model may not be the best fit. Outliers, points far from the others, can also affect the model.\n",
    "\n",
    "Residual analysis helps ensure the model's accuracy and whether it meets the assumptions of linear regression. If issues are found, adjustments to the model may be needed to improve its performance."
   ]
  },
  {
   "cell_type": "code",
   "execution_count": 41,
   "id": "d979d45a",
   "metadata": {},
   "outputs": [],
   "source": [
    "residual = actual- y_Predict.reshape(-1)"
   ]
  },
  {
   "cell_type": "code",
   "execution_count": 42,
   "id": "542e95ee",
   "metadata": {},
   "outputs": [
    {
     "data": {
      "image/png": "[encoded data removed]",
      "text/plain": [
       "<Figure size 640x480 with 1 Axes>"
      ]
     },
     "metadata": {},
     "output_type": "display_data"
    }
   ],
   "source": [
    "sns.distplot(residual,kde=True)\n",
    "plt.show()"
   ]
  },
  {
   "cell_type": "markdown",
   "id": "29854f1b",
   "metadata": {},
   "source": [
    "# Line Graph"
   ]
  },
  {
   "cell_type": "code",
   "execution_count": 43,
   "id": "086d0b3e",
   "metadata": {},
   "outputs": [
    {
     "data": {
      "image/png": "[encoded data removed]",
      "text/plain": [
       "<Figure size 640x480 with 1 Axes>"
      ]
     },
     "metadata": {},
     "output_type": "display_data"
    }
   ],
   "source": [
    "sns.scatterplot(x=Ytest, y=y_Predict, color='blue', label='Actual Data points')\n",
    "plt.plot([min(Ytest), max(Ytest)], [min(Ytest), max(Ytest)], color='red', label='Ideal Line')\n",
    "plt.xlabel('Actual Values')\n",
    "plt.ylabel('Predicted Values')\n",
    "plt.title('Actual (Linear Regression)')\n",
    "plt.legend()\n",
    "plt.show()"
   ]
  },
  {
   "cell_type": "markdown",
   "id": "17745bcd",
   "metadata": {},
   "source": [
    "# Model Evaluation"
   ]
  },
  {
   "cell_type": "code",
   "execution_count": 44,
   "id": "7e4305c2",
   "metadata": {},
   "outputs": [
    {
     "name": "stdout",
     "output_type": "stream",
     "text": [
      "Linear Regression Model\n",
      "------------------------------------------------------------\n",
      "Mean Squared Error: 9839952411.801706\n",
      "Root Mean Squared Error: 99196.53427313732\n"
     ]
    }
   ],
   "source": [
    "# Score It\n",
    "from sklearn.metrics import mean_squared_error\n",
    "\n",
    "print('Linear Regression Model')\n",
    "# Results\n",
    "print('--'*30)\n",
    "# mean_squared_error(y_test, y_pred)\n",
    "mse = mean_squared_error(Ytest, y_Predict)\n",
    "rmse = np.sqrt(mse)\n",
    "\n",
    "# Print evaluation metrics\n",
    "print(\"Mean Squared Error:\", mse)\n",
    "print(\"Root Mean Squared Error:\", rmse)"
   ]
  },
  {
   "cell_type": "code",
   "execution_count": null,
   "id": "5637b181",
   "metadata": {},
   "outputs": [],
   "source": []
  }
 ],
 "metadata": {
  "kernelspec": {
   "display_name": "Python 3 (ipykernel)",
   "language": "python",
   "name": "python3"
  },
  "language_info": {
   "codemirror_mode": {
    "name": "ipython",
    "version": 3
   },
   "file_extension": ".py",
   "mimetype": "text/x-python",
   "name": "python",
   "nbconvert_exporter": "python",
   "pygments_lexer": "ipython3",
   "version": "3.9.13"
  }
 },
 "nbformat": 4,
 "nbformat_minor": 5
}
