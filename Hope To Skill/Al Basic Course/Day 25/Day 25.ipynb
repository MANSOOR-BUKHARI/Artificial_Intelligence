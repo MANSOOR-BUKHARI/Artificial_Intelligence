{
 "cells": [
  {
   "cell_type": "markdown",
   "id": "7fb5c1d0",
   "metadata": {},
   "source": [
    "# `Import Necessary Libraries`"
   ]
  },
  {
   "cell_type": "code",
   "execution_count": 1,
   "id": "712ec498",
   "metadata": {},
   "outputs": [],
   "source": [
    "import numpy as np\n",
    "import pandas as pd\n",
    "import keras\n",
    "import tensorflow as tf\n",
    "from tensorflow.python.client import device_lib\n",
    "import matplotlib.pyplot as plt\n",
    "%matplotlib inline"
   ]
  },
  {
   "cell_type": "markdown",
   "id": "003d8132",
   "metadata": {},
   "source": [
    "### `Checking Availablity of Devices`"
   ]
  },
  {
   "cell_type": "code",
   "execution_count": 2,
   "id": "3c27d0ca",
   "metadata": {},
   "outputs": [
    {
     "name": "stdout",
     "output_type": "stream",
     "text": [
      "[name: \"/device:CPU:0\"\n",
      "device_type: \"CPU\"\n",
      "memory_limit: 268435456\n",
      "locality {\n",
      "}\n",
      "incarnation: 1587848605977776666\n",
      "xla_global_id: -1\n",
      "]\n"
     ]
    }
   ],
   "source": [
    "print(device_lib.list_local_devices())"
   ]
  },
  {
   "cell_type": "markdown",
   "id": "104df504",
   "metadata": {},
   "source": [
    "### `Split dataset`"
   ]
  },
  {
   "cell_type": "code",
   "execution_count": 3,
   "id": "86ed51c1",
   "metadata": {},
   "outputs": [],
   "source": [
    "from keras.datasets import mnist"
   ]
  },
  {
   "cell_type": "code",
   "execution_count": 4,
   "id": "660fdf3e",
   "metadata": {},
   "outputs": [],
   "source": [
    "(x_train, y_train), (x_test, y_test) = mnist.load_data()"
   ]
  },
  {
   "cell_type": "code",
   "execution_count": null,
   "id": "87f2027c",
   "metadata": {},
   "outputs": [],
   "source": []
  },
  {
   "cell_type": "markdown",
   "id": "7af65485",
   "metadata": {},
   "source": [
    "### `Display`"
   ]
  },
  {
   "cell_type": "code",
   "execution_count": 5,
   "id": "bb2e35ab",
   "metadata": {},
   "outputs": [
    {
     "data": {
      "image/png": "[encoded data removed]",
      "text/plain": [
       "<Figure size 2000x400 with 10 Axes>"
      ]
     },
     "metadata": {},
     "output_type": "display_data"
    }
   ],
   "source": [
    "# Number of digit to display\n",
    "n = 10\n",
    "\n",
    "# Figure size\n",
    "plt.figure(figsize=(20,4))\n",
    "\n",
    "# Loop through images\n",
    "for i in range(n):\n",
    "    # Create a subplot with a figure\n",
    "    ax = plt.subplot(2, n, i+1)\n",
    "    \n",
    "    # Display original image\n",
    "    plt.imshow(x_train[i].reshape(28,28))\n",
    "    \n",
    "    #Set colormap to gray scale\n",
    "    plt.gray()\n",
    "    \n",
    "    # Hide x-axis and y-axis\n",
    "    ax.get_xaxis().set_visible(False)\n",
    "    ax.get_yaxis().set_visible(False)\n",
    "\n",
    "# Show the figure with image\n",
    "plt.show()\n",
    "plt.close()"
   ]
  },
  {
   "cell_type": "code",
   "execution_count": null,
   "id": "180fe0a5",
   "metadata": {},
   "outputs": [],
   "source": []
  },
  {
   "cell_type": "markdown",
   "id": "c9e64778",
   "metadata": {},
   "source": [
    "***`Display shapes of datasets`***"
   ]
  },
  {
   "cell_type": "code",
   "execution_count": 6,
   "id": "6bd8eaa1",
   "metadata": {},
   "outputs": [
    {
     "name": "stdout",
     "output_type": "stream",
     "text": [
      "X-Train Shape (60000, 28, 28)\n",
      "Y-Train Shape (60000,)\n",
      "X-Test Shape (10000, 28, 28)\n",
      "Y-Test Shape (10000,)\n"
     ]
    }
   ],
   "source": [
    "print(f\"X-Train Shape {x_train.shape}\")\n",
    "print(f\"Y-Train Shape {y_train.shape}\")\n",
    "print(f\"X-Test Shape {x_test.shape}\")\n",
    "print(f\"Y-Test Shape {y_test.shape}\")"
   ]
  },
  {
   "cell_type": "code",
   "execution_count": null,
   "id": "ca6d305b",
   "metadata": {},
   "outputs": [],
   "source": []
  },
  {
   "cell_type": "markdown",
   "id": "111be7ca",
   "metadata": {},
   "source": [
    "### `Reshaping Data`"
   ]
  },
  {
   "cell_type": "code",
   "execution_count": 7,
   "id": "03ba5cce",
   "metadata": {},
   "outputs": [],
   "source": [
    "x_train = x_train.reshape(x_train.shape[0],28,28,1)\n",
    "x_test = x_test.reshape(x_test.shape[0],28,28,1)"
   ]
  },
  {
   "cell_type": "code",
   "execution_count": null,
   "id": "89f24654",
   "metadata": {},
   "outputs": [],
   "source": []
  },
  {
   "cell_type": "markdown",
   "id": "cb400d7f",
   "metadata": {},
   "source": [
    "### `Min-Max Scalling`"
   ]
  },
  {
   "cell_type": "code",
   "execution_count": 8,
   "id": "9f581084",
   "metadata": {},
   "outputs": [],
   "source": [
    "x_train = x_train.astype('float32')\n",
    "x_test = x_test.astype('float32')\n",
    "x_train /= 255\n",
    "x_test /= 255"
   ]
  },
  {
   "cell_type": "code",
   "execution_count": null,
   "id": "c964ccc3",
   "metadata": {},
   "outputs": [],
   "source": []
  },
  {
   "cell_type": "markdown",
   "id": "bb58d289",
   "metadata": {},
   "source": [
    "### `One Hot Encoding`"
   ]
  },
  {
   "cell_type": "code",
   "execution_count": 9,
   "id": "658d1daf",
   "metadata": {},
   "outputs": [],
   "source": [
    "from keras.utils import to_categorical\n",
    "\n",
    "y_train = to_categorical(y_train, num_classes=10)\n",
    "y_test = to_categorical(y_test, num_classes=10)"
   ]
  },
  {
   "cell_type": "markdown",
   "id": "711b55cb",
   "metadata": {},
   "source": [
    "***\n",
    "#### `Display Update Shapes`\n",
    "***"
   ]
  },
  {
   "cell_type": "code",
   "execution_count": 10,
   "id": "2f9963fd",
   "metadata": {},
   "outputs": [
    {
     "name": "stdout",
     "output_type": "stream",
     "text": [
      "X-Train Shape (60000, 28, 28, 1)\n",
      "Y-Train Shape (60000, 10)\n",
      "X-Test Shape (10000, 28, 28, 1)\n",
      "Y-Test Shape (10000, 10)\n"
     ]
    }
   ],
   "source": [
    "print(f\"X-Train Shape {x_train.shape}\")\n",
    "print(f\"Y-Train Shape {y_train.shape}\")\n",
    "print(f\"X-Test Shape {x_test.shape}\")\n",
    "print(f\"Y-Test Shape {y_test.shape}\")"
   ]
  },
  {
   "cell_type": "markdown",
   "id": "7ab56b57",
   "metadata": {},
   "source": [
    "****\n",
    "# `Building the CNN`\n",
    "****"
   ]
  },
  {
   "cell_type": "code",
   "execution_count": 11,
   "id": "6f6762f4",
   "metadata": {},
   "outputs": [],
   "source": [
    "from keras.models import Sequential\n",
    "from keras.layers.core import Dense, Flatten\n",
    "from keras.layers.convolutional import Conv2D, MaxPooling2D"
   ]
  },
  {
   "cell_type": "code",
   "execution_count": 12,
   "id": "19a57d07",
   "metadata": {},
   "outputs": [],
   "source": [
    "# Define the dimensions of the input image\n",
    "img_rows, img_cols, channels = 28, 28, 1 # 1 for grayscale, 3 for rgb\n",
    "\n",
    "# Define the number of filters for each layer of CNN\n",
    "filters = [6, 32, 80, 120]\n",
    "\n",
    "# Define the number of classes for classifications\n",
    "classes = 10"
   ]
  },
  {
   "cell_type": "markdown",
   "id": "0502e5a9",
   "metadata": {},
   "source": [
    "*** \n",
    "## `Creating Model`\n",
    "****"
   ]
  },
  {
   "cell_type": "code",
   "execution_count": 13,
   "id": "33bc87bc",
   "metadata": {},
   "outputs": [],
   "source": [
    "model = Sequential()\n",
    "model.add(Conv2D(filters[0], (3,3), padding='same', activation='relu', input_shape=(img_rows,img_cols,channels)))\n",
    "model.add(MaxPooling2D(pool_size=(2,2))) # For reducing image size\n",
    "# (dim+pad-kernal)/2 (28 +3 -3)/2 = 14\n",
    "\n",
    "model.add(Conv2D(filters[1], (2,2), padding='same', activation='relu'))\n",
    "model.add(MaxPooling2D(pool_size=(2,2)))\n",
    "# (dim+pad-kernal)/2 (14 +2 -2)/2 = 7\n",
    "\n",
    "model.add(Conv2D(filters[2], (2,2), padding='same', activation='relu'))\n",
    "model.add(MaxPooling2D(pool_size=(2,2)))\n",
    "# (dim+pad-kernal)/2 (7 +2 -2)/2 = 3\n",
    "\n",
    "model.add(Conv2D(filters[3], (2,2), padding='same', activation='relu'))\n",
    "model.add(MaxPooling2D(pool_size=(2,2)))\n",
    "# (dim+pad-kernal)/2 (3 +2 -2)/2 = 1\n",
    "\n",
    "model.add(Flatten())\n",
    "model.add(Dense(64, activation='relu'))\n",
    "model.add(Dense(classes, activation='softmax'))\n",
    "\n",
    "model.compile(loss='categorical_crossentropy', optimizer='sgd', metrics=['accuracy'])"
   ]
  },
  {
   "cell_type": "markdown",
   "id": "c91652d2",
   "metadata": {},
   "source": [
    "***\n",
    "#### `Get a Summary Of Model`\n",
    "***"
   ]
  },
  {
   "cell_type": "code",
   "execution_count": 14,
   "id": "25f6795d",
   "metadata": {},
   "outputs": [
    {
     "name": "stdout",
     "output_type": "stream",
     "text": [
      "Model: \"sequential\"\n",
      "_________________________________________________________________\n",
      " Layer (type)                Output Shape              Param #   \n",
      "=================================================================\n",
      " conv2d (Conv2D)             (None, 28, 28, 6)         60        \n",
      "                                                                 \n",
      " max_pooling2d (MaxPooling2D  (None, 14, 14, 6)        0         \n",
      " )                                                               \n",
      "                                                                 \n",
      " conv2d_1 (Conv2D)           (None, 14, 14, 32)        800       \n",
      "                                                                 \n",
      " max_pooling2d_1 (MaxPooling  (None, 7, 7, 32)         0         \n",
      " 2D)                                                             \n",
      "                                                                 \n",
      " conv2d_2 (Conv2D)           (None, 7, 7, 80)          10320     \n",
      "                                                                 \n",
      " max_pooling2d_2 (MaxPooling  (None, 3, 3, 80)         0         \n",
      " 2D)                                                             \n",
      "                                                                 \n",
      " conv2d_3 (Conv2D)           (None, 3, 3, 120)         38520     \n",
      "                                                                 \n",
      " max_pooling2d_3 (MaxPooling  (None, 1, 1, 120)        0         \n",
      " 2D)                                                             \n",
      "                                                                 \n",
      " flatten (Flatten)           (None, 120)               0         \n",
      "                                                                 \n",
      " dense (Dense)               (None, 64)                7744      \n",
      "                                                                 \n",
      " dense_1 (Dense)             (None, 10)                650       \n",
      "                                                                 \n",
      "=================================================================\n",
      "Total params: 58,094\n",
      "Trainable params: 58,094\n",
      "Non-trainable params: 0\n",
      "_________________________________________________________________\n"
     ]
    }
   ],
   "source": [
    "model.summary()"
   ]
  },
  {
   "cell_type": "markdown",
   "id": "be5e5a3d",
   "metadata": {},
   "source": [
    "***\n",
    "### `Parameter Calculation in CNN`\n",
    "***\n",
    "\n",
    "(filter_height * filter_width * input_channel + 1) * no_of_filter = parameters\n",
    "\n",
    "* **Layer_1:** = (3x3x1+1)x6 = 60\n",
    "* **Layer_2:** = (2x2x6+1)x32 = 800\n",
    "* **Layer_3:** = (2x2x32+1)x80 = 10320"
   ]
  },
  {
   "cell_type": "markdown",
   "id": "91f7c058",
   "metadata": {},
   "source": [
    "***\n",
    "# `Training The CNN`\n",
    "***"
   ]
  },
  {
   "cell_type": "code",
   "execution_count": 15,
   "id": "9a4bcb11",
   "metadata": {},
   "outputs": [
    {
     "name": "stdout",
     "output_type": "stream",
     "text": [
      "Epoch 1/15\n",
      "750/750 [==============================] - 32s 41ms/step - loss: 2.2454 - accuracy: 0.3210 - val_loss: 2.0772 - val_accuracy: 0.5479\n",
      "Epoch 2/15\n",
      "750/750 [==============================] - 31s 41ms/step - loss: 0.9497 - accuracy: 0.7653 - val_loss: 0.3088 - val_accuracy: 0.9117\n",
      "Epoch 3/15\n",
      "750/750 [==============================] - 29s 38ms/step - loss: 0.2760 - accuracy: 0.9161 - val_loss: 0.1952 - val_accuracy: 0.9397\n",
      "Epoch 4/15\n",
      "750/750 [==============================] - 29s 38ms/step - loss: 0.1875 - accuracy: 0.9424 - val_loss: 0.1704 - val_accuracy: 0.9476\n",
      "Epoch 5/15\n",
      "750/750 [==============================] - 30s 40ms/step - loss: 0.1471 - accuracy: 0.9539 - val_loss: 0.1243 - val_accuracy: 0.9617\n",
      "Epoch 6/15\n",
      "750/750 [==============================] - 30s 40ms/step - loss: 0.1214 - accuracy: 0.9615 - val_loss: 0.1151 - val_accuracy: 0.9653\n",
      "Epoch 7/15\n",
      "750/750 [==============================] - 30s 39ms/step - loss: 0.1041 - accuracy: 0.9670 - val_loss: 0.0965 - val_accuracy: 0.9711\n",
      "Epoch 8/15\n",
      "750/750 [==============================] - 29s 39ms/step - loss: 0.0918 - accuracy: 0.9709 - val_loss: 0.0892 - val_accuracy: 0.9726\n",
      "Epoch 9/15\n",
      "750/750 [==============================] - 30s 39ms/step - loss: 0.0830 - accuracy: 0.9738 - val_loss: 0.0850 - val_accuracy: 0.9734\n",
      "Epoch 10/15\n",
      "750/750 [==============================] - 36s 48ms/step - loss: 0.0759 - accuracy: 0.9757 - val_loss: 0.0748 - val_accuracy: 0.9768\n",
      "Epoch 11/15\n",
      "750/750 [==============================] - 30s 40ms/step - loss: 0.0681 - accuracy: 0.9780 - val_loss: 0.0816 - val_accuracy: 0.9733\n",
      "Epoch 12/15\n",
      "750/750 [==============================] - 30s 40ms/step - loss: 0.0633 - accuracy: 0.9801 - val_loss: 0.0806 - val_accuracy: 0.9759\n",
      "Epoch 13/15\n",
      "750/750 [==============================] - 30s 40ms/step - loss: 0.0581 - accuracy: 0.9817 - val_loss: 0.0698 - val_accuracy: 0.9783\n",
      "Epoch 14/15\n",
      "750/750 [==============================] - 30s 40ms/step - loss: 0.0548 - accuracy: 0.9826 - val_loss: 0.0699 - val_accuracy: 0.9788\n",
      "Epoch 15/15\n",
      "750/750 [==============================] - 30s 40ms/step - loss: 0.0509 - accuracy: 0.9838 - val_loss: 0.0787 - val_accuracy: 0.9747\n"
     ]
    },
    {
     "data": {
      "text/plain": [
       "<keras.callbacks.History at 0x2218e72aaf0>"
      ]
     },
     "execution_count": 15,
     "metadata": {},
     "output_type": "execute_result"
    }
   ],
   "source": [
    "model.fit(x_train,y_train,validation_split=0.2, epochs=15, batch_size=64, verbose=1)"
   ]
  },
  {
   "cell_type": "markdown",
   "id": "dcca1143",
   "metadata": {},
   "source": [
    "***\n",
    "## `Testing The Model`\n",
    "***"
   ]
  },
  {
   "cell_type": "code",
   "execution_count": 16,
   "id": "59920422",
   "metadata": {},
   "outputs": [
    {
     "name": "stdout",
     "output_type": "stream",
     "text": [
      "Test Accuracy : 0.9724\n"
     ]
    }
   ],
   "source": [
    "from sklearn.metrics import accuracy_score\n",
    "import numpy as np\n",
    "import matplotlib.pyplot as plt\n",
    "\n",
    "# Prediction Probablity\n",
    "y_pred_prob  = model.predict(x_test, verbose=0)\n",
    "y_pred = np.where(y_pred_prob>0.5, 1, 0)\n",
    "\n",
    "# Calculate and pring the score\n",
    "test_accuracy = accuracy_score(y_pred,y_test)\n",
    "print(f'Test Accuracy : {test_accuracy}')"
   ]
  },
  {
   "cell_type": "markdown",
   "id": "ccd413f0",
   "metadata": {},
   "source": [
    "# `Visculize`"
   ]
  },
  {
   "cell_type": "code",
   "execution_count": 17,
   "id": "9fe1b128",
   "metadata": {},
   "outputs": [
    {
     "name": "stdout",
     "output_type": "stream",
     "text": [
      "1/1 [==============================] - 0s 39ms/step\n"
     ]
    }
   ],
   "source": [
    "# Define a mask for seletcing a range of indices of 10 to 39\n",
    "mask = range(10,40)\n",
    "\n",
    "# Select 20 sample from test for visculization\n",
    "x_valid = x_test[10:40]\n",
    "actual_labels = y_test[10:40]\n",
    "\n",
    "# Predict probability for the selected label\n",
    "y_pred_prob_valid = model.predict(x_valid)\n",
    "y_pred_valid = np.where(y_pred_prob_valid > 0.5 , 1, 0)"
   ]
  },
  {
   "cell_type": "code",
   "execution_count": 18,
   "id": "3d804166",
   "metadata": {},
   "outputs": [
    {
     "data": {
      "image/png": "[encoded data removed]",
      "text/plain": [
       "<Figure size 2000x400 with 60 Axes>"
      ]
     },
     "metadata": {},
     "output_type": "display_data"
    }
   ],
   "source": [
    "# Setup a figure to display image\n",
    "n = len(x_valid)\n",
    "plt.figure(figsize=(20,4))\n",
    "\n",
    "for i in range(n):\n",
    "    # Display the original image\n",
    "    ax = plt.subplot(2, n, i+1)\n",
    "    plt.imshow(x_valid[i].reshape(28,28))\n",
    "    plt.gray()\n",
    "    ax.get_xaxis().set_visible(False)\n",
    "    ax.get_yaxis().set_visible(False)\n",
    "    \n",
    "    # Display the predicted digit\n",
    "    pred_digit = np.argmax(y_pred_prob_valid[i])\n",
    "    ax = plt.subplot(2, n, i + 1 + n)\n",
    "    plt.text(0.5, 0.5, str(pred_digit), fontsize=12, ha='center', va='center')\n",
    "    plt.axis('off')\n",
    "    \n",
    "# Show the predicted image\n",
    "plt.show()\n",
    "    \n",
    "# Close the plot\n",
    "plt.close()"
   ]
  },
  {
   "cell_type": "code",
   "execution_count": null,
   "id": "a4551f78",
   "metadata": {},
   "outputs": [],
   "source": []
  }
 ],
 "metadata": {
  "kernelspec": {
   "display_name": "Python 3 (ipykernel)",
   "language": "python",
   "name": "python3"
  },
  "language_info": {
   "codemirror_mode": {
    "name": "ipython",
    "version": 3
   },
   "file_extension": ".py",
   "mimetype": "text/x-python",
   "name": "python",
   "nbconvert_exporter": "python",
   "pygments_lexer": "ipython3",
   "version": "3.9.13"
  }
 },
 "nbformat": 4,
 "nbformat_minor": 5
}
