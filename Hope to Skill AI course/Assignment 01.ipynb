{
 "cells": [
  {
   "cell_type": "markdown",
   "id": "29828ad5",
   "metadata": {},
   "source": [
    "# Create a list named 'fruit' containing three different fruits"
   ]
  },
  {
   "cell_type": "code",
   "execution_count": 1,
   "id": "325a033d",
   "metadata": {},
   "outputs": [],
   "source": [
    "fruit = ['apple','mango','banana']"
   ]
  },
  {
   "cell_type": "markdown",
   "id": "e5422ce7",
   "metadata": {},
   "source": [
    "# Create a tuple named 'numbers' containing five random numbers"
   ]
  },
  {
   "cell_type": "code",
   "execution_count": 2,
   "id": "212e183f",
   "metadata": {},
   "outputs": [],
   "source": [
    "numbers = (4,6,7,3,1)"
   ]
  },
  {
   "cell_type": "markdown",
   "id": "14a03b0c",
   "metadata": {},
   "source": [
    "# Create a set name 'colors' with three different colors"
   ]
  },
  {
   "cell_type": "code",
   "execution_count": 4,
   "id": "a16e30b8",
   "metadata": {},
   "outputs": [],
   "source": [
    "set = {'red','pink','blue'}"
   ]
  },
  {
   "cell_type": "markdown",
   "id": "ac487435",
   "metadata": {},
   "source": [
    "# Create a dictionary named 'students' with the following key-value pairs"
   ]
  },
  {
   "cell_type": "markdown",
   "id": "5ea07deb",
   "metadata": {},
   "source": [
    "### name</br> age</br>grade"
   ]
  },
  {
   "cell_type": "code",
   "execution_count": 7,
   "id": "0018eddc",
   "metadata": {},
   "outputs": [],
   "source": [
    "students = {\n",
    "    'name' : \"Asad\",\n",
    "    'age' : 15,\n",
    "    'grade' : \"A+\"\n",
    "}"
   ]
  },
  {
   "cell_type": "markdown",
   "id": "d91e4895",
   "metadata": {},
   "source": [
    "# Create a multi line string named 'poem' with the short poem of your choice"
   ]
  },
  {
   "cell_type": "code",
   "execution_count": 8,
   "id": "6e04f731",
   "metadata": {},
   "outputs": [],
   "source": [
    "poem = \"\"\"\n",
    "Twinkle Twinkle litter start\n",
    "How it wonder what you are\n",
    "Up above the in the sky\n",
    "\"\"\""
   ]
  },
  {
   "cell_type": "markdown",
   "id": "0ac7d00c",
   "metadata": {},
   "source": [
    "# Write if statement if fruit is greater than three. If it is print 'You have enough fruits'"
   ]
  },
  {
   "cell_type": "code",
   "execution_count": null,
   "id": "2c73a4f1",
   "metadata": {},
   "outputs": [],
   "source": [
    "if n in len(fruit):\n",
    "    "
   ]
  }
 ],
 "metadata": {
  "kernelspec": {
   "display_name": "Python 3 (ipykernel)",
   "language": "python",
   "name": "python3"
  },
  "language_info": {
   "codemirror_mode": {
    "name": "ipython",
    "version": 3
   },
   "file_extension": ".py",
   "mimetype": "text/x-python",
   "name": "python",
   "nbconvert_exporter": "python",
   "pygments_lexer": "ipython3",
   "version": "3.9.13"
  }
 },
 "nbformat": 4,
 "nbformat_minor": 5
}
