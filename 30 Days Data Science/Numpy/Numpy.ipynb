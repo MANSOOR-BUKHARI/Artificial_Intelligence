{
 "cells": [
  {
   "cell_type": "markdown",
   "id": "3541cb2d",
   "metadata": {},
   "source": [
    "# Numpy"
   ]
  },
  {
   "cell_type": "markdown",
   "id": "17fec043",
   "metadata": {},
   "source": [
    "Numpy is an open source python library, that is used in every field of science and enginerring...The numpy library contains a multidimensional array and data structures. Numpy can be used to perform a wide varity of mathematical operations. Numpy was created in 2005.The array object in numpy is called ndarray which is 50x faster than python list.\n",
    "\n",
    "Arrays are frequently used in data science.We can install numpy through \n",
    "\n",
    "pip install numpy"
   ]
  },
  {
   "cell_type": "code",
   "execution_count": 1,
   "id": "c03927f5",
   "metadata": {},
   "outputs": [],
   "source": [
    "import numpy as np"
   ]
  },
  {
   "cell_type": "code",
   "execution_count": 2,
   "id": "3a9ba3eb",
   "metadata": {},
   "outputs": [],
   "source": [
    "arr = np.array([1,2,3,4])"
   ]
  },
  {
   "cell_type": "code",
   "execution_count": 3,
   "id": "ad65c33b",
   "metadata": {},
   "outputs": [
    {
     "name": "stdout",
     "output_type": "stream",
     "text": [
      "[1 2 3 4]\n"
     ]
    }
   ],
   "source": [
    "print(arr)"
   ]
  },
  {
   "cell_type": "code",
   "execution_count": 4,
   "id": "785513aa",
   "metadata": {},
   "outputs": [
    {
     "name": "stdout",
     "output_type": "stream",
     "text": [
      "<class 'numpy.ndarray'>\n"
     ]
    }
   ],
   "source": [
    "print(type(arr))"
   ]
  },
  {
   "cell_type": "code",
   "execution_count": 5,
   "id": "ddca351e",
   "metadata": {},
   "outputs": [],
   "source": [
    "arr = np.array((4,5,6,7))"
   ]
  },
  {
   "cell_type": "code",
   "execution_count": 6,
   "id": "c712bc51",
   "metadata": {},
   "outputs": [
    {
     "name": "stdout",
     "output_type": "stream",
     "text": [
      "[4 5 6 7]\n",
      "<class 'numpy.ndarray'>\n"
     ]
    }
   ],
   "source": [
    "print(arr)\n",
    "print(type(arr))"
   ]
  },
  {
   "cell_type": "markdown",
   "id": "f32e4593",
   "metadata": {},
   "source": [
    "# Dimensions of ndarray"
   ]
  },
  {
   "cell_type": "markdown",
   "id": "1fec10a6",
   "metadata": {},
   "source": [
    "## 0D array"
   ]
  },
  {
   "cell_type": "code",
   "execution_count": 7,
   "id": "85c93689",
   "metadata": {},
   "outputs": [
    {
     "name": "stdout",
     "output_type": "stream",
     "text": [
      "3\n",
      "<class 'numpy.ndarray'>\n"
     ]
    }
   ],
   "source": [
    "arr = np.array(3)\n",
    "print(arr)\n",
    "print(type(arr))"
   ]
  },
  {
   "cell_type": "code",
   "execution_count": 8,
   "id": "12dd5c46",
   "metadata": {},
   "outputs": [
    {
     "name": "stdout",
     "output_type": "stream",
     "text": [
      "0\n"
     ]
    }
   ],
   "source": [
    "print(arr.ndim)"
   ]
  },
  {
   "cell_type": "markdown",
   "id": "a84baa94",
   "metadata": {},
   "source": [
    "## if array contain only one value in it it is called 0D array"
   ]
  },
  {
   "cell_type": "markdown",
   "id": "1cbe589e",
   "metadata": {},
   "source": [
    "## 1D array"
   ]
  },
  {
   "cell_type": "code",
   "execution_count": 9,
   "id": "0c108b67",
   "metadata": {},
   "outputs": [
    {
     "name": "stdout",
     "output_type": "stream",
     "text": [
      "1\n"
     ]
    }
   ],
   "source": [
    "arr = np.array([1,2,3,4])\n",
    "print(arr.ndim)"
   ]
  },
  {
   "cell_type": "markdown",
   "id": "b497b688",
   "metadata": {},
   "source": [
    "### ndim is used to check dimension of array"
   ]
  },
  {
   "cell_type": "markdown",
   "id": "b3bc0819",
   "metadata": {},
   "source": [
    "## 2D array"
   ]
  },
  {
   "cell_type": "code",
   "execution_count": 10,
   "id": "199e2e8f",
   "metadata": {},
   "outputs": [],
   "source": [
    "arr = np.array([[12,3,4,5],[34,5,7,6]])"
   ]
  },
  {
   "cell_type": "code",
   "execution_count": 11,
   "id": "8a261964",
   "metadata": {},
   "outputs": [
    {
     "name": "stdout",
     "output_type": "stream",
     "text": [
      "2\n"
     ]
    }
   ],
   "source": [
    "print(arr.ndim)"
   ]
  },
  {
   "cell_type": "code",
   "execution_count": 12,
   "id": "1d2bb50b",
   "metadata": {},
   "outputs": [
    {
     "name": "stdout",
     "output_type": "stream",
     "text": [
      "[[12  3  4  5]\n",
      " [34  5  7  6]]\n"
     ]
    }
   ],
   "source": [
    "print(arr)"
   ]
  },
  {
   "cell_type": "markdown",
   "id": "a8ecac30",
   "metadata": {},
   "source": [
    "### Let's check with different things"
   ]
  },
  {
   "cell_type": "code",
   "execution_count": 13,
   "id": "21770be6",
   "metadata": {},
   "outputs": [
    {
     "name": "stderr",
     "output_type": "stream",
     "text": [
      "C:\\Users\\Mansoor\\AppData\\Local\\Temp\\ipykernel_3384\\4165038979.py:1: VisibleDeprecationWarning: Creating an ndarray from ragged nested sequences (which is a list-or-tuple of lists-or-tuples-or ndarrays with different lengths or shapes) is deprecated. If you meant to do this, you must specify 'dtype=object' when creating the ndarray.\n",
      "  arr = np.array([[2,3,4,5],[5,6,7]])\n"
     ]
    }
   ],
   "source": [
    "arr = np.array([[2,3,4,5],[5,6,7]])"
   ]
  },
  {
   "cell_type": "code",
   "execution_count": 14,
   "id": "d5173d43",
   "metadata": {},
   "outputs": [
    {
     "name": "stdout",
     "output_type": "stream",
     "text": [
      "[list([2, 3, 4, 5]) list([5, 6, 7])]\n"
     ]
    }
   ],
   "source": [
    "print(arr)"
   ]
  },
  {
   "cell_type": "markdown",
   "id": "68c1f699",
   "metadata": {},
   "source": [
    "#### we see that if values are differnt it is not considering as array"
   ]
  },
  {
   "cell_type": "code",
   "execution_count": 15,
   "id": "dcbe4094",
   "metadata": {},
   "outputs": [
    {
     "name": "stdout",
     "output_type": "stream",
     "text": [
      "1\n"
     ]
    }
   ],
   "source": [
    "print(arr.ndim)"
   ]
  },
  {
   "cell_type": "markdown",
   "id": "6b0d6a65",
   "metadata": {},
   "source": [
    "### Let's check for different dtypes"
   ]
  },
  {
   "cell_type": "code",
   "execution_count": 16,
   "id": "b37c206c",
   "metadata": {},
   "outputs": [],
   "source": [
    "arr = np.array([[1,2,3.4],[4,5,6]])"
   ]
  },
  {
   "cell_type": "code",
   "execution_count": 17,
   "id": "9bc51b60",
   "metadata": {},
   "outputs": [
    {
     "name": "stdout",
     "output_type": "stream",
     "text": [
      "[[1.  2.  3.4]\n",
      " [4.  5.  6. ]]\n"
     ]
    }
   ],
   "source": [
    "print(arr)"
   ]
  },
  {
   "cell_type": "code",
   "execution_count": 18,
   "id": "5cc3fa51",
   "metadata": {},
   "outputs": [
    {
     "name": "stdout",
     "output_type": "stream",
     "text": [
      "2\n"
     ]
    }
   ],
   "source": [
    "print(arr.ndim)"
   ]
  },
  {
   "cell_type": "markdown",
   "id": "16b9b24d",
   "metadata": {},
   "source": [
    "# 3D array"
   ]
  },
  {
   "cell_type": "markdown",
   "id": "9832ace1",
   "metadata": {},
   "source": [
    "### Let's see some tips to understand 3d array when it comes to 2d array we saw that each sq bracket contain 1d array and 2 sq brackets are used....So for 3d array 3 brackets are used and each contain 2d array"
   ]
  },
  {
   "cell_type": "code",
   "execution_count": 19,
   "id": "a7107274",
   "metadata": {},
   "outputs": [],
   "source": [
    "arr = np.array([[[1,2,3,4],[4,3,21,2]],\n",
    "             [[5,4,32,1],[3,4,5,6]]])"
   ]
  },
  {
   "cell_type": "code",
   "execution_count": 20,
   "id": "7606c39f",
   "metadata": {},
   "outputs": [
    {
     "name": "stdout",
     "output_type": "stream",
     "text": [
      "[[[ 1  2  3  4]\n",
      "  [ 4  3 21  2]]\n",
      "\n",
      " [[ 5  4 32  1]\n",
      "  [ 3  4  5  6]]]\n"
     ]
    }
   ],
   "source": [
    "print(arr)"
   ]
  },
  {
   "cell_type": "code",
   "execution_count": 21,
   "id": "999ca6eb",
   "metadata": {},
   "outputs": [
    {
     "name": "stdout",
     "output_type": "stream",
     "text": [
      "3\n"
     ]
    }
   ],
   "source": [
    "print(arr.ndim)"
   ]
  },
  {
   "cell_type": "code",
   "execution_count": 22,
   "id": "b878b95f",
   "metadata": {},
   "outputs": [
    {
     "name": "stdout",
     "output_type": "stream",
     "text": [
      "32\n"
     ]
    }
   ],
   "source": [
    "print(arr[1][0][2])"
   ]
  },
  {
   "cell_type": "code",
   "execution_count": 23,
   "id": "85b8b967",
   "metadata": {},
   "outputs": [
    {
     "name": "stdout",
     "output_type": "stream",
     "text": [
      "21\n"
     ]
    }
   ],
   "source": [
    "print(arr[0][1][2])"
   ]
  },
  {
   "cell_type": "markdown",
   "id": "a1c3d292",
   "metadata": {},
   "source": [
    "#### it use a simple concept.. first bracket is for it's portion of 2d array. and remaining use 2d concept"
   ]
  },
  {
   "cell_type": "markdown",
   "id": "d25b2208",
   "metadata": {},
   "source": [
    "# 4D array"
   ]
  },
  {
   "cell_type": "code",
   "execution_count": 24,
   "id": "5aec364d",
   "metadata": {},
   "outputs": [],
   "source": [
    "import numpy as np\n",
    "\n",
    "arr = np.array(\n",
    "    [\n",
    "        [\n",
    "            [\n",
    "                [1, 29, 35, 44],\n",
    "                [2, 83, 47, 45]\n",
    "            ],\n",
    "            [\n",
    "                [32, 14, 52, 64],\n",
    "                [13, 54, 67, 8]\n",
    "            ]\n",
    "        ],\n",
    "        [\n",
    "            [\n",
    "                [97, 56, 89, 3],\n",
    "                [34, 8, 32, 12]\n",
    "            ],\n",
    "            [\n",
    "                [11, 234, 5, 87],\n",
    "                [867, 45, 34, 22]\n",
    "            ]\n",
    "        ]\n",
    "    ]\n",
    ")\n"
   ]
  },
  {
   "cell_type": "code",
   "execution_count": 25,
   "id": "1cf0badc",
   "metadata": {},
   "outputs": [
    {
     "name": "stdout",
     "output_type": "stream",
     "text": [
      "83\n"
     ]
    }
   ],
   "source": [
    "print(arr[0][0][1][1])"
   ]
  },
  {
   "cell_type": "code",
   "execution_count": 26,
   "id": "4626cf04",
   "metadata": {},
   "outputs": [
    {
     "name": "stdout",
     "output_type": "stream",
     "text": [
      "87\n"
     ]
    }
   ],
   "source": [
    "print(arr[1][1][0][3])"
   ]
  },
  {
   "cell_type": "code",
   "execution_count": 27,
   "id": "85d528a4",
   "metadata": {},
   "outputs": [
    {
     "name": "stdout",
     "output_type": "stream",
     "text": [
      "3\n"
     ]
    }
   ],
   "source": [
    "print(arr[1][0][0][3])"
   ]
  },
  {
   "cell_type": "code",
   "execution_count": 28,
   "id": "1208b61f",
   "metadata": {},
   "outputs": [
    {
     "name": "stdout",
     "output_type": "stream",
     "text": [
      "4\n"
     ]
    }
   ],
   "source": [
    "print(arr.ndim)"
   ]
  },
  {
   "cell_type": "code",
   "execution_count": 29,
   "id": "6fafe950",
   "metadata": {},
   "outputs": [
    {
     "name": "stdout",
     "output_type": "stream",
     "text": [
      "[[[[  1  29  35  44]\n",
      "   [  2  83  47  45]]\n",
      "\n",
      "  [[ 32  14  52  64]\n",
      "   [ 13  54  67   8]]]\n",
      "\n",
      "\n",
      " [[[ 97  56  89   3]\n",
      "   [ 34   8  32  12]]\n",
      "\n",
      "  [[ 11 234   5  87]\n",
      "   [867  45  34  22]]]]\n"
     ]
    }
   ],
   "source": [
    "print(arr)"
   ]
  },
  {
   "cell_type": "markdown",
   "id": "f9d8e5a5",
   "metadata": {},
   "source": [
    "# Higher dimensional array"
   ]
  },
  {
   "cell_type": "markdown",
   "id": "3f74961a",
   "metadata": {},
   "source": [
    "## we are using ndmin for creating ndimension array....Let's see in action"
   ]
  },
  {
   "cell_type": "code",
   "execution_count": 30,
   "id": "5c10bf9f",
   "metadata": {},
   "outputs": [],
   "source": [
    "arr = np.array([1,2,3,4],ndmin=3)"
   ]
  },
  {
   "cell_type": "code",
   "execution_count": 31,
   "id": "5463440a",
   "metadata": {},
   "outputs": [
    {
     "name": "stdout",
     "output_type": "stream",
     "text": [
      "[[[1 2 3 4]]]\n",
      " dimesion of array is 3\n"
     ]
    }
   ],
   "source": [
    "print(f'{arr}\\n dimesion of array is {arr.ndim}')"
   ]
  },
  {
   "cell_type": "code",
   "execution_count": 32,
   "id": "112edc23",
   "metadata": {},
   "outputs": [],
   "source": [
    "arr = np.array([23,4,5,3,23,4],ndmin=10)"
   ]
  },
  {
   "cell_type": "code",
   "execution_count": 33,
   "id": "81344f8f",
   "metadata": {},
   "outputs": [
    {
     "name": "stdout",
     "output_type": "stream",
     "text": [
      "[[[[[[[[[[23  4  5  3 23  4]]]]]]]]]]\n",
      "dimension of array is 10\n"
     ]
    }
   ],
   "source": [
    "print(f'{arr}\\ndimension of array is {arr.ndim}')"
   ]
  },
  {
   "cell_type": "markdown",
   "id": "540303be",
   "metadata": {},
   "source": [
    "# Slicing of np array"
   ]
  },
  {
   "cell_type": "markdown",
   "id": "65e8f44d",
   "metadata": {},
   "source": [
    "## Slicing in 1D array"
   ]
  },
  {
   "cell_type": "markdown",
   "id": "5a805255",
   "metadata": {},
   "source": [
    "#### if array is array = [2,3,4,6,7,8,34] print 4,6,7,8 through slicing"
   ]
  },
  {
   "cell_type": "code",
   "execution_count": 34,
   "id": "a5380d4c",
   "metadata": {},
   "outputs": [],
   "source": [
    "array = np.array([2,3,4,6,7,8,34])"
   ]
  },
  {
   "cell_type": "code",
   "execution_count": 35,
   "id": "916dba53",
   "metadata": {},
   "outputs": [
    {
     "name": "stdout",
     "output_type": "stream",
     "text": [
      "[4 6 7 8]\n"
     ]
    }
   ],
   "source": [
    "print(array[2:6])"
   ]
  },
  {
   "cell_type": "markdown",
   "id": "9aaa649c",
   "metadata": {},
   "source": [
    "### if array is array = [[2,3,4,5],[7,63,12,65],[8,7,67,5]] print [67,5] "
   ]
  },
  {
   "cell_type": "code",
   "execution_count": 36,
   "id": "eedf5db8",
   "metadata": {},
   "outputs": [],
   "source": [
    "array = np.array([[2,3,4,5],[7,63,12,65],[8,7,67,5]])"
   ]
  },
  {
   "cell_type": "code",
   "execution_count": 37,
   "id": "1eb0e18e",
   "metadata": {},
   "outputs": [
    {
     "name": "stdout",
     "output_type": "stream",
     "text": [
      "[67  5]\n"
     ]
    }
   ],
   "source": [
    "print(array[2][2:4])"
   ]
  },
  {
   "cell_type": "markdown",
   "id": "8937a295",
   "metadata": {},
   "source": [
    "## check types of array and create array with dtypes|"
   ]
  },
  {
   "cell_type": "code",
   "execution_count": 38,
   "id": "5b49a385",
   "metadata": {},
   "outputs": [],
   "source": [
    "arr = np.array([1,2,3,4])"
   ]
  },
  {
   "cell_type": "code",
   "execution_count": 39,
   "id": "7f59c280",
   "metadata": {},
   "outputs": [
    {
     "data": {
      "text/plain": [
       "dtype('int32')"
      ]
     },
     "execution_count": 39,
     "metadata": {},
     "output_type": "execute_result"
    }
   ],
   "source": [
    "arr.dtype"
   ]
  },
  {
   "cell_type": "code",
   "execution_count": 40,
   "id": "5c778f44",
   "metadata": {},
   "outputs": [],
   "source": [
    "arr = np.array([1,2,34,5,6],dtype='S')"
   ]
  },
  {
   "cell_type": "code",
   "execution_count": 41,
   "id": "4ecf72f9",
   "metadata": {},
   "outputs": [
    {
     "data": {
      "text/plain": [
       "dtype('S2')"
      ]
     },
     "execution_count": 41,
     "metadata": {},
     "output_type": "execute_result"
    }
   ],
   "source": [
    "arr.dtype"
   ]
  },
  {
   "cell_type": "code",
   "execution_count": 43,
   "id": "8a81b187",
   "metadata": {},
   "outputs": [],
   "source": [
    "arr = np.array((1,2,3,4),dtype='i4')"
   ]
  },
  {
   "cell_type": "code",
   "execution_count": 44,
   "id": "af9e78fb",
   "metadata": {},
   "outputs": [
    {
     "data": {
      "text/plain": [
       "dtype('int32')"
      ]
     },
     "execution_count": 44,
     "metadata": {},
     "output_type": "execute_result"
    }
   ],
   "source": [
    "arr.dtype"
   ]
  },
  {
   "cell_type": "markdown",
   "id": "fe8d45e6",
   "metadata": {},
   "source": [
    "#### if we already know about the data type of array we use this"
   ]
  },
  {
   "cell_type": "markdown",
   "id": "10c445c9",
   "metadata": {},
   "source": [
    "# Numpy array shape"
   ]
  },
  {
   "cell_type": "markdown",
   "id": "d9add79b",
   "metadata": {},
   "source": [
    "The shape of an array is the number of elements in each dimension"
   ]
  },
  {
   "cell_type": "markdown",
   "id": "2f3b92ed",
   "metadata": {},
   "source": [
    "### Print the shape of 2D array"
   ]
  },
  {
   "cell_type": "code",
   "execution_count": 46,
   "id": "f5e60b72",
   "metadata": {},
   "outputs": [],
   "source": [
    "array= np.array([[1,2,3,4],[5,6,7,8]])"
   ]
  },
  {
   "cell_type": "code",
   "execution_count": 47,
   "id": "ef6bc9f0",
   "metadata": {},
   "outputs": [
    {
     "data": {
      "text/plain": [
       "(2, 4)"
      ]
     },
     "execution_count": 47,
     "metadata": {},
     "output_type": "execute_result"
    }
   ],
   "source": [
    "array.shape"
   ]
  },
  {
   "cell_type": "code",
   "execution_count": 49,
   "id": "7dae04f8",
   "metadata": {},
   "outputs": [],
   "source": [
    "array = np.array([[2,3,4],[5,6,7],[7,5,3],[34,56,7]])"
   ]
  },
  {
   "cell_type": "code",
   "execution_count": 50,
   "id": "25245ef3",
   "metadata": {},
   "outputs": [
    {
     "data": {
      "text/plain": [
       "(4, 3)"
      ]
     },
     "execution_count": 50,
     "metadata": {},
     "output_type": "execute_result"
    }
   ],
   "source": [
    "array.shape"
   ]
  },
  {
   "cell_type": "markdown",
   "id": "f9e31e82",
   "metadata": {},
   "source": [
    "# Joining the array"
   ]
  },
  {
   "cell_type": "code",
   "execution_count": 51,
   "id": "63240479",
   "metadata": {},
   "outputs": [],
   "source": [
    "arr = np.array([3,4,5])\n",
    "arr1 = np.array([6,54,34])"
   ]
  },
  {
   "cell_type": "code",
   "execution_count": 53,
   "id": "94afb1ce",
   "metadata": {},
   "outputs": [],
   "source": [
    "array = np.concatenate((arr,arr1))"
   ]
  },
  {
   "cell_type": "code",
   "execution_count": 54,
   "id": "2b47b805",
   "metadata": {},
   "outputs": [
    {
     "data": {
      "text/plain": [
       "array([ 3,  4,  5,  6, 54, 34])"
      ]
     },
     "execution_count": 54,
     "metadata": {},
     "output_type": "execute_result"
    }
   ],
   "source": [
    "array"
   ]
  },
  {
   "cell_type": "markdown",
   "id": "53fa41ee",
   "metadata": {},
   "source": [
    "### For 2D"
   ]
  },
  {
   "cell_type": "code",
   "execution_count": 55,
   "id": "c2109b68",
   "metadata": {},
   "outputs": [],
   "source": [
    "arr = np.array([[1,2,3],[4,5,6]])"
   ]
  },
  {
   "cell_type": "code",
   "execution_count": 57,
   "id": "cd459ba8",
   "metadata": {},
   "outputs": [],
   "source": [
    "arr1 = np.array([[4,3,2],[7,56,4]])"
   ]
  },
  {
   "cell_type": "code",
   "execution_count": 58,
   "id": "d1b425af",
   "metadata": {},
   "outputs": [],
   "source": [
    "array = np.concatenate((arr,arr1))"
   ]
  },
  {
   "cell_type": "code",
   "execution_count": 59,
   "id": "e97e7b3e",
   "metadata": {},
   "outputs": [
    {
     "name": "stdout",
     "output_type": "stream",
     "text": [
      "[[ 1  2  3]\n",
      " [ 4  5  6]\n",
      " [ 4  3  2]\n",
      " [ 7 56  4]]\n"
     ]
    }
   ],
   "source": [
    "print(array)"
   ]
  },
  {
   "cell_type": "code",
   "execution_count": 60,
   "id": "bb8c0ddd",
   "metadata": {},
   "outputs": [],
   "source": [
    "array = np.concatenate((arr,arr1),axis=0)"
   ]
  },
  {
   "cell_type": "code",
   "execution_count": 61,
   "id": "fddc18a4",
   "metadata": {},
   "outputs": [
    {
     "name": "stdout",
     "output_type": "stream",
     "text": [
      "[[ 1  2  3]\n",
      " [ 4  5  6]\n",
      " [ 4  3  2]\n",
      " [ 7 56  4]]\n"
     ]
    }
   ],
   "source": [
    "print(array)"
   ]
  },
  {
   "cell_type": "code",
   "execution_count": 62,
   "id": "195c5684",
   "metadata": {},
   "outputs": [],
   "source": [
    "array = np.concatenate((arr,arr1),axis=1)"
   ]
  },
  {
   "cell_type": "code",
   "execution_count": 63,
   "id": "e9939f86",
   "metadata": {},
   "outputs": [
    {
     "name": "stdout",
     "output_type": "stream",
     "text": [
      "[[ 1  2  3  4  3  2]\n",
      " [ 4  5  6  7 56  4]]\n"
     ]
    }
   ],
   "source": [
    "print(array)"
   ]
  },
  {
   "cell_type": "markdown",
   "id": "adad9559",
   "metadata": {},
   "source": [
    "### in 2D array by default value of axis is 0 as we already see it in example"
   ]
  },
  {
   "cell_type": "markdown",
   "id": "9d73382b",
   "metadata": {},
   "source": [
    "# Spliting Values"
   ]
  },
  {
   "cell_type": "code",
   "execution_count": 64,
   "id": "a4c79c88",
   "metadata": {},
   "outputs": [],
   "source": [
    "arr = np.array([1,2,6,7,8])"
   ]
  },
  {
   "cell_type": "code",
   "execution_count": 68,
   "id": "cfcc16ea",
   "metadata": {},
   "outputs": [
    {
     "data": {
      "text/plain": [
       "[array([1, 2, 6]), array([7, 8])]"
      ]
     },
     "execution_count": 68,
     "metadata": {},
     "output_type": "execute_result"
    }
   ],
   "source": [
    "np.array_split(arr,2)"
   ]
  },
  {
   "cell_type": "code",
   "execution_count": 69,
   "id": "9ce93c9c",
   "metadata": {},
   "outputs": [
    {
     "data": {
      "text/plain": [
       "[array([1]), array([2]), array([6]), array([7]), array([8])]"
      ]
     },
     "execution_count": 69,
     "metadata": {},
     "output_type": "execute_result"
    }
   ],
   "source": [
    "np.array_split(arr,5)"
   ]
  },
  {
   "cell_type": "markdown",
   "id": "1676050e",
   "metadata": {},
   "source": [
    "# Ravel and Flaten functions"
   ]
  },
  {
   "cell_type": "markdown",
   "id": "addfb7f2",
   "metadata": {},
   "source": [
    "These both function has single purpose which is converting multi dimension array into 1D"
   ]
  },
  {
   "cell_type": "code",
   "execution_count": 71,
   "id": "1be15824",
   "metadata": {},
   "outputs": [],
   "source": [
    "arr = np.array([1,2,4,5,6],ndmin=3)"
   ]
  },
  {
   "cell_type": "code",
   "execution_count": 72,
   "id": "8967d74c",
   "metadata": {},
   "outputs": [
    {
     "name": "stdout",
     "output_type": "stream",
     "text": [
      "[[[1 2 4 5 6]]]\n"
     ]
    }
   ],
   "source": [
    "print(arr)"
   ]
  },
  {
   "cell_type": "code",
   "execution_count": 73,
   "id": "18c71b0c",
   "metadata": {},
   "outputs": [
    {
     "name": "stdout",
     "output_type": "stream",
     "text": [
      "3\n"
     ]
    }
   ],
   "source": [
    "print(arr.ndim)"
   ]
  },
  {
   "cell_type": "code",
   "execution_count": 77,
   "id": "b3a4a08b",
   "metadata": {},
   "outputs": [],
   "source": [
    "d = arr.ravel()"
   ]
  },
  {
   "cell_type": "code",
   "execution_count": 79,
   "id": "ad300947",
   "metadata": {},
   "outputs": [
    {
     "data": {
      "text/plain": [
       "array([1, 2, 4, 5, 6])"
      ]
     },
     "execution_count": 79,
     "metadata": {},
     "output_type": "execute_result"
    }
   ],
   "source": [
    "d"
   ]
  },
  {
   "cell_type": "code",
   "execution_count": 80,
   "id": "72ad88d3",
   "metadata": {},
   "outputs": [
    {
     "data": {
      "text/plain": [
       "1"
      ]
     },
     "execution_count": 80,
     "metadata": {},
     "output_type": "execute_result"
    }
   ],
   "source": [
    "d.ndim"
   ]
  },
  {
   "cell_type": "code",
   "execution_count": 81,
   "id": "d6900247",
   "metadata": {},
   "outputs": [],
   "source": [
    "arr = np.array([5,6,7,42,2],ndmin=2)"
   ]
  },
  {
   "cell_type": "code",
   "execution_count": 82,
   "id": "00c91014",
   "metadata": {},
   "outputs": [],
   "source": [
    "d = arr.flatten()"
   ]
  },
  {
   "cell_type": "code",
   "execution_count": 83,
   "id": "e7a205c4",
   "metadata": {},
   "outputs": [
    {
     "data": {
      "text/plain": [
       "2"
      ]
     },
     "execution_count": 83,
     "metadata": {},
     "output_type": "execute_result"
    }
   ],
   "source": [
    "arr.ndim"
   ]
  },
  {
   "cell_type": "code",
   "execution_count": 84,
   "id": "ea9fe193",
   "metadata": {},
   "outputs": [
    {
     "data": {
      "text/plain": [
       "1"
      ]
     },
     "execution_count": 84,
     "metadata": {},
     "output_type": "execute_result"
    }
   ],
   "source": [
    "d.ndim"
   ]
  },
  {
   "cell_type": "markdown",
   "id": "ff0bf77a",
   "metadata": {},
   "source": [
    "# Unique Value Finder"
   ]
  },
  {
   "cell_type": "code",
   "execution_count": 85,
   "id": "af683560",
   "metadata": {},
   "outputs": [],
   "source": [
    "arr = np.array([23,1,3,5,6,34,657,76,53,23,4,4,5,6,657])"
   ]
  },
  {
   "cell_type": "code",
   "execution_count": 87,
   "id": "a3b540a2",
   "metadata": {},
   "outputs": [
    {
     "data": {
      "text/plain": [
       "array([  1,   3,   4,   5,   6,  23,  34,  53,  76, 657])"
      ]
     },
     "execution_count": 87,
     "metadata": {},
     "output_type": "execute_result"
    }
   ],
   "source": [
    "np.unique(arr)"
   ]
  },
  {
   "cell_type": "markdown",
   "id": "bcd78ec4",
   "metadata": {},
   "source": [
    "### Also return index"
   ]
  },
  {
   "cell_type": "code",
   "execution_count": 88,
   "id": "c1f833fc",
   "metadata": {},
   "outputs": [
    {
     "data": {
      "text/plain": [
       "(array([  1,   3,   4,   5,   6,  23,  34,  53,  76, 657]),\n",
       " array([ 1,  2, 10,  3,  4,  0,  5,  8,  7,  6], dtype=int64))"
      ]
     },
     "execution_count": 88,
     "metadata": {},
     "output_type": "execute_result"
    }
   ],
   "source": [
    "np.unique(arr,return_index=True)"
   ]
  },
  {
   "cell_type": "markdown",
   "id": "644ad82b",
   "metadata": {},
   "source": [
    "### Also return columns position"
   ]
  },
  {
   "cell_type": "code",
   "execution_count": 89,
   "id": "a1d47176",
   "metadata": {},
   "outputs": [
    {
     "data": {
      "text/plain": [
       "(array([  1,   3,   4,   5,   6,  23,  34,  53,  76, 657]),\n",
       " array([ 1,  2, 10,  3,  4,  0,  5,  8,  7,  6], dtype=int64),\n",
       " array([1, 1, 2, 2, 2, 2, 1, 1, 1, 2], dtype=int64))"
      ]
     },
     "execution_count": 89,
     "metadata": {},
     "output_type": "execute_result"
    }
   ],
   "source": [
    "np.unique(arr,return_index=True,return_counts=True)"
   ]
  },
  {
   "cell_type": "markdown",
   "id": "ad56ef25",
   "metadata": {},
   "source": [
    "### Return inverse"
   ]
  },
  {
   "cell_type": "code",
   "execution_count": 90,
   "id": "ed289e5a",
   "metadata": {},
   "outputs": [
    {
     "data": {
      "text/plain": [
       "(array([  1,   3,   4,   5,   6,  23,  34,  53,  76, 657]),\n",
       " array([5, 0, 1, 3, 4, 6, 9, 8, 7, 5, 2, 2, 3, 4, 9], dtype=int64))"
      ]
     },
     "execution_count": 90,
     "metadata": {},
     "output_type": "execute_result"
    }
   ],
   "source": [
    "np.unique(arr,return_inverse=True)"
   ]
  },
  {
   "cell_type": "markdown",
   "id": "12d107cb",
   "metadata": {},
   "source": [
    "# Delete"
   ]
  },
  {
   "cell_type": "code",
   "execution_count": 91,
   "id": "aaad5d70",
   "metadata": {},
   "outputs": [],
   "source": [
    "x = np.array([3,4,5,6,7,8])"
   ]
  },
  {
   "cell_type": "code",
   "execution_count": 92,
   "id": "5ce2beb8",
   "metadata": {},
   "outputs": [
    {
     "data": {
      "text/plain": [
       "array([3, 4, 5, 7, 8])"
      ]
     },
     "execution_count": 92,
     "metadata": {},
     "output_type": "execute_result"
    }
   ],
   "source": [
    "np.delete(x,[3])"
   ]
  },
  {
   "cell_type": "code",
   "execution_count": 94,
   "id": "56c92cdf",
   "metadata": {},
   "outputs": [
    {
     "data": {
      "text/plain": [
       "array([3, 4, 6, 7, 8])"
      ]
     },
     "execution_count": 94,
     "metadata": {},
     "output_type": "execute_result"
    }
   ],
   "source": [
    "np.delete(x,[2])"
   ]
  },
  {
   "cell_type": "markdown",
   "id": "9e034989",
   "metadata": {},
   "source": [
    "### Same concept we apply in 2D array inwhich we delete row or columns by using axis "
   ]
  },
  {
   "cell_type": "code",
   "execution_count": 95,
   "id": "331ed9d6",
   "metadata": {},
   "outputs": [],
   "source": [
    "x = np.array([[2,56,7],[6,4,2],[3,4,5]])"
   ]
  },
  {
   "cell_type": "code",
   "execution_count": 97,
   "id": "055ec9ea",
   "metadata": {},
   "outputs": [
    {
     "data": {
      "text/plain": [
       "array([[ 2, 56,  7],\n",
       "       [ 3,  4,  5]])"
      ]
     },
     "execution_count": 97,
     "metadata": {},
     "output_type": "execute_result"
    }
   ],
   "source": [
    "np.delete(x,1,axis=0)"
   ]
  },
  {
   "cell_type": "code",
   "execution_count": 98,
   "id": "1724a0df",
   "metadata": {},
   "outputs": [
    {
     "data": {
      "text/plain": [
       "array([[2, 7],\n",
       "       [6, 2],\n",
       "       [3, 5]])"
      ]
     },
     "execution_count": 98,
     "metadata": {},
     "output_type": "execute_result"
    }
   ],
   "source": [
    "np.delete(x,1,axis=1)"
   ]
  },
  {
   "cell_type": "code",
   "execution_count": null,
   "id": "0f978283",
   "metadata": {},
   "outputs": [],
   "source": []
  }
 ],
 "metadata": {
  "kernelspec": {
   "display_name": "Python 3 (ipykernel)",
   "language": "python",
   "name": "python3"
  },
  "language_info": {
   "codemirror_mode": {
    "name": "ipython",
    "version": 3
   },
   "file_extension": ".py",
   "mimetype": "text/x-python",
   "name": "python",
   "nbconvert_exporter": "python",
   "pygments_lexer": "ipython3",
   "version": "3.9.13"
  }
 },
 "nbformat": 4,
 "nbformat_minor": 5
}
